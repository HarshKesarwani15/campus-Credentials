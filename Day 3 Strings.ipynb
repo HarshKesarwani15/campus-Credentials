{
 "cells": [
  {
   "cell_type": "code",
   "execution_count": 2,
   "id": "ac9f9e4e",
   "metadata": {},
   "outputs": [
    {
     "name": "stdout",
     "output_type": "stream",
     "text": [
      "Harsh Harsh harsh\n"
     ]
    }
   ],
   "source": [
    "s=\"Harsh\"\n",
    "s1='Harsh'\n",
    "s2=\"\"\"harsh\"\"\"\n",
    "print(s,s1,s2)"
   ]
  },
  {
   "cell_type": "code",
   "execution_count": null,
   "id": "4e0c9389",
   "metadata": {},
   "outputs": [],
   "source": [
    "#string is sub scriptable using auto iteration\n",
    "s=\"hi hello\"\n"
   ]
  },
  {
   "cell_type": "code",
   "execution_count": 3,
   "id": "ae5957f5",
   "metadata": {},
   "outputs": [
    {
     "data": {
      "text/plain": [
       "97"
      ]
     },
     "execution_count": 3,
     "metadata": {},
     "output_type": "execute_result"
    }
   ],
   "source": [
    "#character to ascii\n",
    "ord('a')"
   ]
  },
  {
   "cell_type": "code",
   "execution_count": 5,
   "id": "c1d95510",
   "metadata": {},
   "outputs": [
    {
     "data": {
      "text/plain": [
       "'a'"
      ]
     },
     "execution_count": 5,
     "metadata": {},
     "output_type": "execute_result"
    }
   ],
   "source": [
    "#ascii to character\n",
    "chr(97)"
   ]
  },
  {
   "cell_type": "code",
   "execution_count": 12,
   "id": "603f797d",
   "metadata": {},
   "outputs": [
    {
     "name": "stdout",
     "output_type": "stream",
     "text": [
      "a : 97\n",
      "b : 98\n",
      "c : 99\n",
      "d : 100\n",
      "e : 101\n",
      "f : 102\n",
      "g : 103\n",
      "h : 104\n",
      "i : 105\n",
      "j : 106\n",
      "k : 107\n",
      "l : 108\n",
      "m : 109\n",
      "n : 110\n",
      "o : 111\n",
      "p : 112\n",
      "q : 113\n",
      "r : 114\n",
      "s : 115\n",
      "t : 116\n",
      "u : 117\n",
      "v : 118\n",
      "w : 119\n",
      "x : 120\n",
      "y : 121\n",
      "z : 122\n"
     ]
    }
   ],
   "source": [
    "#print a to z with asci values\n",
    "for i in range(ord('a'),ord('z')+1,1):\n",
    "    print(chr(i),\":\",i)"
   ]
  },
  {
   "cell_type": "code",
   "execution_count": 16,
   "id": "45af04e2",
   "metadata": {},
   "outputs": [
    {
     "name": "stdout",
     "output_type": "stream",
     "text": [
      "Enter satrt:P\n",
      "Enter end:T\n",
      "P\n",
      "Q\n",
      "R\n",
      "S\n",
      "T\n"
     ]
    }
   ],
   "source": [
    "#print any alphabet to any given by user\n",
    "#eg. start:p end: t  PQRST\n",
    "start=input(\"Enter satrt:\")\n",
    "end=input(\"Enter end:\")\n",
    "s=ord(start)\n",
    "e=ord(end)\n",
    "for i in range(s,e+1,1):\n",
    "    print(chr(i))"
   ]
  },
  {
   "cell_type": "markdown",
   "id": "54adda7f",
   "metadata": {},
   "source": [
    "Operators of string: +  * [:]  in not in"
   ]
  },
  {
   "cell_type": "code",
   "execution_count": 17,
   "id": "fd8438e9",
   "metadata": {},
   "outputs": [
    {
     "name": "stdout",
     "output_type": "stream",
     "text": [
      "harsh Kesarwani\n"
     ]
    }
   ],
   "source": [
    "s1=\"harsh\"\n",
    "s2=\"Kesarwani\"\n",
    "s3=s1+\" \"+s2 #concatenates 2 lor more string\n",
    "print(s3)"
   ]
  },
  {
   "cell_type": "code",
   "execution_count": 19,
   "id": "e093e531",
   "metadata": {},
   "outputs": [
    {
     "name": "stdout",
     "output_type": "stream",
     "text": [
      "harsh harsh harsh harsh harsh \n"
     ]
    }
   ],
   "source": [
    "s1=\"harsh \"\n",
    "print(s1*5) # multiplication repeats string n times"
   ]
  },
  {
   "cell_type": "code",
   "execution_count": 21,
   "id": "97a28ac3",
   "metadata": {},
   "outputs": [
    {
     "data": {
      "text/plain": [
       "'r'"
      ]
     },
     "execution_count": 21,
     "metadata": {},
     "output_type": "execute_result"
    }
   ],
   "source": [
    "s2=\"Kesarwani\"\n",
    "s2[4]"
   ]
  },
  {
   "cell_type": "code",
   "execution_count": 22,
   "id": "b7cb985b",
   "metadata": {},
   "outputs": [
    {
     "data": {
      "text/plain": [
       "'n'"
      ]
     },
     "execution_count": 22,
     "metadata": {},
     "output_type": "execute_result"
    }
   ],
   "source": [
    "s2[-2]"
   ]
  },
  {
   "cell_type": "markdown",
   "id": "f321dcfc",
   "metadata": {},
   "source": [
    "Slicing operation"
   ]
  },
  {
   "cell_type": "code",
   "execution_count": 57,
   "id": "d74aeea1",
   "metadata": {},
   "outputs": [
    {
     "name": "stdout",
     "output_type": "stream",
     "text": [
      "def\n",
      "acegik\n",
      "lkjihgfedcba\n"
     ]
    }
   ],
   "source": [
    "#slice operation [start:end:step]\n",
    "#default            0   len(str)   1\n",
    "s=\"abcdefghijkl\"\n",
    "print(s[3:6])\n",
    "print(s[::2]) # it will strt and step will be 2\n",
    "print(s[::-1])\n"
   ]
  },
  {
   "cell_type": "code",
   "execution_count": 25,
   "id": "3f2fbd01",
   "metadata": {},
   "outputs": [
    {
     "data": {
      "text/plain": [
       "'lkjihgfedcba'"
      ]
     },
     "execution_count": 25,
     "metadata": {},
     "output_type": "execute_result"
    }
   ],
   "source": [
    "s[::-1]"
   ]
  },
  {
   "cell_type": "code",
   "execution_count": 33,
   "id": "2c0564f5",
   "metadata": {},
   "outputs": [
    {
     "name": "stdout",
     "output_type": "stream",
     "text": [
      "Enter a String:harsh\n",
      "\n",
      "h\n",
      "ha\n",
      "har\n",
      "hars\n",
      "harsh\n"
     ]
    }
   ],
   "source": [
    "'''word triangle\n",
    "input word: python\n",
    "p\n",
    "py\n",
    "pyt\n",
    "\n",
    "python'''\n",
    "\n",
    "s=input(\"Enter a String:\")\n",
    "for i in range(0,len(s)+1):\n",
    "    print(s[:i])\n",
    "    \n",
    "    \n"
   ]
  },
  {
   "cell_type": "code",
   "execution_count": 38,
   "id": "a11326b9",
   "metadata": {},
   "outputs": [
    {
     "name": "stdout",
     "output_type": "stream",
     "text": [
      "Enter a String:python\n",
      "python\n",
      "pytho\n",
      "pyth\n",
      "pyt\n",
      "py\n",
      "p\n"
     ]
    }
   ],
   "source": [
    "'''python\n",
    "pytho\n",
    "pyth\n",
    "pyt\n",
    "\n",
    "'''\n",
    "\n",
    "s=input(\"Enter a String:\")\n",
    "for i in range(len(s),0,-1):\n",
    "    print(s[:i])"
   ]
  },
  {
   "cell_type": "code",
   "execution_count": 40,
   "id": "d71fbcac",
   "metadata": {},
   "outputs": [
    {
     "name": "stdout",
     "output_type": "stream",
     "text": [
      "X\n",
      "XX\n",
      "XXX\n",
      "XXXX\n",
      "XXXXX\n"
     ]
    }
   ],
   "source": [
    "\n",
    "for i in range(1,6,1):\n",
    "    print(\"X\"*i)\n",
    "    "
   ]
  },
  {
   "cell_type": "code",
   "execution_count": 43,
   "id": "c192fd18",
   "metadata": {},
   "outputs": [
    {
     "name": "stdout",
     "output_type": "stream",
     "text": [
      "X\n",
      "XXX\n",
      "XXXXX\n",
      "XXXXXXX\n"
     ]
    }
   ],
   "source": [
    "\n",
    "for i in range(1,8,2):\n",
    "    print(\"X\"*i)"
   ]
  },
  {
   "cell_type": "code",
   "execution_count": 50,
   "id": "464de1f8",
   "metadata": {},
   "outputs": [
    {
     "name": "stdout",
     "output_type": "stream",
     "text": [
      "X\n",
      "XX\n",
      "XXX\n",
      "XXXX\n",
      "XXX\n",
      "XX\n",
      "X\n"
     ]
    }
   ],
   "source": [
    "for i in range(1,5,1):\n",
    "    print(\"X\"*i)\n",
    "for j in range(3,0,-1):\n",
    "    print(\"X\"*j)"
   ]
  },
  {
   "cell_type": "code",
   "execution_count": 51,
   "id": "8d9b6e6a",
   "metadata": {},
   "outputs": [
    {
     "name": "stdout",
     "output_type": "stream",
     "text": [
      "XXXXX\n",
      "XXXX\n",
      "XXX\n",
      "XX\n",
      "X\n",
      "XX\n",
      "XXX\n",
      "XXXX\n",
      "XXXXX\n"
     ]
    }
   ],
   "source": [
    "for i in range(5,0,-1):\n",
    "    print(\"X\"*i)\n",
    "for j in range(2,6,1):\n",
    "    print(\"X\"*j)   "
   ]
  },
  {
   "cell_type": "code",
   "execution_count": 53,
   "id": "3da38f1d",
   "metadata": {},
   "outputs": [
    {
     "name": "stdout",
     "output_type": "stream",
     "text": [
      "      X\n",
      "     XX\n",
      "    XXX\n",
      "   XXXX\n",
      "  XXXXX\n"
     ]
    }
   ],
   "source": [
    "for i in range(1,6,1):\n",
    "    print(\" \"*(6-i),\"X\"*i)"
   ]
  },
  {
   "cell_type": "code",
   "execution_count": 54,
   "id": "8b0a0277",
   "metadata": {},
   "outputs": [
    {
     "name": "stdout",
     "output_type": "stream",
     "text": [
      "      X \n",
      "     X X \n",
      "    X X X \n",
      "   X X X X \n",
      "  X X X X X \n"
     ]
    }
   ],
   "source": [
    "for i in range(1,6,1):\n",
    "    print(\" \"*(6-i),\"X \"*i)"
   ]
  },
  {
   "cell_type": "code",
   "execution_count": 56,
   "id": "801de71f",
   "metadata": {},
   "outputs": [
    {
     "name": "stdout",
     "output_type": "stream",
     "text": [
      " X X X X X X \n",
      "  X X X X X \n",
      "   X X X X \n",
      "    X X X \n",
      "     X X \n",
      "      X \n"
     ]
    }
   ],
   "source": [
    "for i in range(6,0,-1):\n",
    "    print(\" \"*(6-i),\"X \"*i)"
   ]
  },
  {
   "cell_type": "code",
   "execution_count": 59,
   "id": "617aec17",
   "metadata": {},
   "outputs": [
    {
     "data": {
      "text/plain": [
       "True"
      ]
     },
     "execution_count": 59,
     "metadata": {},
     "output_type": "execute_result"
    }
   ],
   "source": [
    "\"abc\" in \"abcsd2\""
   ]
  },
  {
   "cell_type": "code",
   "execution_count": 62,
   "id": "4882dfd8",
   "metadata": {},
   "outputs": [
    {
     "data": {
      "text/plain": [
       "True"
      ]
     },
     "execution_count": 62,
     "metadata": {},
     "output_type": "execute_result"
    }
   ],
   "source": [
    "\"xyz\" not in \"abcdx\""
   ]
  },
  {
   "cell_type": "markdown",
   "id": "d7138a61",
   "metadata": {},
   "source": [
    "string Methods"
   ]
  },
  {
   "cell_type": "code",
   "execution_count": 67,
   "id": "d7258bcf",
   "metadata": {},
   "outputs": [],
   "source": [
    "line=\"this is The Test LiNe\"\n"
   ]
  },
  {
   "cell_type": "code",
   "execution_count": 68,
   "id": "2cef5693",
   "metadata": {},
   "outputs": [
    {
     "data": {
      "text/plain": [
       "'This is the test line'"
      ]
     },
     "execution_count": 68,
     "metadata": {},
     "output_type": "execute_result"
    }
   ],
   "source": [
    "line.capitalize()"
   ]
  },
  {
   "cell_type": "code",
   "execution_count": 70,
   "id": "a88bb189",
   "metadata": {},
   "outputs": [
    {
     "data": {
      "text/plain": [
       "'This Is The Test Line'"
      ]
     },
     "execution_count": 70,
     "metadata": {},
     "output_type": "execute_result"
    }
   ],
   "source": [
    "line.title()"
   ]
  },
  {
   "cell_type": "code",
   "execution_count": 72,
   "id": "98e59937",
   "metadata": {},
   "outputs": [
    {
     "data": {
      "text/plain": [
       "'THIS IS THE TEST LINE'"
      ]
     },
     "execution_count": 72,
     "metadata": {},
     "output_type": "execute_result"
    }
   ],
   "source": [
    "line.upper()"
   ]
  },
  {
   "cell_type": "code",
   "execution_count": 74,
   "id": "ee8bbe5c",
   "metadata": {},
   "outputs": [
    {
     "data": {
      "text/plain": [
       "'this is the test line'"
      ]
     },
     "execution_count": 74,
     "metadata": {},
     "output_type": "execute_result"
    }
   ],
   "source": [
    "line.lower()"
   ]
  },
  {
   "cell_type": "code",
   "execution_count": 76,
   "id": "f39ac96c",
   "metadata": {},
   "outputs": [
    {
     "data": {
      "text/plain": [
       "'THIS IS tHE tEST lInE'"
      ]
     },
     "execution_count": 76,
     "metadata": {},
     "output_type": "execute_result"
    }
   ],
   "source": [
    "line.swapcase()"
   ]
  },
  {
   "cell_type": "code",
   "execution_count": 78,
   "id": "3ac93be8",
   "metadata": {},
   "outputs": [
    {
     "data": {
      "text/plain": [
       "1"
      ]
     },
     "execution_count": 78,
     "metadata": {},
     "output_type": "execute_result"
    }
   ],
   "source": [
    "line.count(line)"
   ]
  },
  {
   "cell_type": "code",
   "execution_count": 79,
   "id": "069a2760",
   "metadata": {},
   "outputs": [
    {
     "data": {
      "text/plain": [
       "21"
      ]
     },
     "execution_count": 79,
     "metadata": {},
     "output_type": "execute_result"
    }
   ],
   "source": [
    "len(line)"
   ]
  },
  {
   "cell_type": "code",
   "execution_count": 83,
   "id": "d3089b69",
   "metadata": {},
   "outputs": [
    {
     "data": {
      "text/plain": [
       "0"
      ]
     },
     "execution_count": 83,
     "metadata": {},
     "output_type": "execute_result"
    }
   ],
   "source": [
    "line.find(line)"
   ]
  },
  {
   "cell_type": "code",
   "execution_count": 88,
   "id": "d361a25b",
   "metadata": {},
   "outputs": [
    {
     "name": "stdout",
     "output_type": "stream",
     "text": [
      "this was done by him\n"
     ]
    }
   ],
   "source": [
    "line=\"this is done by him\"\n",
    "#this was done by him    blank alonog with blank \n",
    "print(line.replace(\" is\",\" was\"))"
   ]
  },
  {
   "cell_type": "code",
   "execution_count": 91,
   "id": "ddf7ed09",
   "metadata": {},
   "outputs": [
    {
     "name": "stdout",
     "output_type": "stream",
     "text": [
      "['98', '67', '448', '56', '32']\n"
     ]
    }
   ],
   "source": [
    "lists=\"98,67,448,56,32\"\n",
    "datalist=lists.split(\",\")\n",
    "print(datalist)"
   ]
  },
  {
   "cell_type": "code",
   "execution_count": 92,
   "id": "a1d3c098",
   "metadata": {},
   "outputs": [
    {
     "name": "stdout",
     "output_type": "stream",
     "text": [
      "['this', 'is', 'so', 'much', 'fun']\n"
     ]
    }
   ],
   "source": [
    "line=\"this is so much fun\"\n",
    "wordlist=line.split()\n",
    "print(wordlist)"
   ]
  },
  {
   "cell_type": "code",
   "execution_count": 93,
   "id": "f8dd0af0",
   "metadata": {},
   "outputs": [
    {
     "name": "stdout",
     "output_type": "stream",
     "text": [
      "Enter a line:this is a new line\n",
      "Total words: 5\n"
     ]
    }
   ],
   "source": [
    "#wordcount\n",
    "line=input(\"Enter a line:\")\n",
    "wordlist=line.split()\n",
    "print(\"Total words:\", len(line.split()))\n"
   ]
  },
  {
   "cell_type": "code",
   "execution_count": 96,
   "id": "635732ce",
   "metadata": {},
   "outputs": [
    {
     "name": "stdout",
     "output_type": "stream",
     "text": [
      "Enter a line:   thois is         new lie          harsh\n",
      "Total words: 5\n"
     ]
    }
   ],
   "source": [
    "#wordcount with  no spaces most powerful\n",
    "line=input(\"Enter a line:\")\n",
    "wordlist=line.split()\n",
    "print(\"Total words:\", len(line.split()))"
   ]
  },
  {
   "cell_type": "code",
   "execution_count": 97,
   "id": "793c858f",
   "metadata": {},
   "outputs": [
    {
     "data": {
      "text/plain": [
       "True"
      ]
     },
     "execution_count": 97,
     "metadata": {},
     "output_type": "execute_result"
    }
   ],
   "source": [
    "\"amar\"==\"amar\""
   ]
  },
  {
   "cell_type": "code",
   "execution_count": 98,
   "id": "76ccd43a",
   "metadata": {},
   "outputs": [
    {
     "data": {
      "text/plain": [
       "False"
      ]
     },
     "execution_count": 98,
     "metadata": {},
     "output_type": "execute_result"
    }
   ],
   "source": [
    "\"xyz\"<\"abc\""
   ]
  },
  {
   "cell_type": "code",
   "execution_count": 100,
   "id": "0d3b3369",
   "metadata": {},
   "outputs": [
    {
     "data": {
      "text/plain": [
       "False"
      ]
     },
     "execution_count": 100,
     "metadata": {},
     "output_type": "execute_result"
    }
   ],
   "source": [
    "\"amar\"==\"Amar\" #case sensitive"
   ]
  },
  {
   "cell_type": "code",
   "execution_count": 3,
   "id": "91395898",
   "metadata": {},
   "outputs": [
    {
     "name": "stdout",
     "output_type": "stream",
     "text": [
      "enter a word:nitin\n",
      "It is a plaindrome Number\n"
     ]
    }
   ],
   "source": [
    "#check for palindrome\n",
    "#1 read a word\n",
    "word=input(\"enter a word:\")\n",
    "#2 reverse\n",
    "t=word[::-1]\n",
    "#compare and comment\n",
    "if(word==t):\n",
    "    print(\"It is a plaindrome Number\")\n",
    "else:\n",
    "    print(\"It is  not a plaindrome Number\")\n",
    "#compare and comment\n"
   ]
  },
  {
   "cell_type": "code",
   "execution_count": 3,
   "id": "a67fd1ad",
   "metadata": {},
   "outputs": [
    {
     "name": "stdout",
     "output_type": "stream",
     "text": [
      "enter a word:this is a new line\n",
      "Vowels are present and total are: 6\n"
     ]
    }
   ],
   "source": [
    "#vowels count\n",
    "word=input(\"enter a word:\")\n",
    "count=0\n",
    "for i in word:\n",
    "    if i=='a' or i=='e' or i=='o' or i=='i' or i=='u':\n",
    "        count+=1\n",
    "print(\"Vowels are present and total are:\", count)\n",
    "        "
   ]
  },
  {
   "cell_type": "code",
   "execution_count": 2,
   "id": "e8410c5b",
   "metadata": {},
   "outputs": [
    {
     "name": "stdout",
     "output_type": "stream",
     "text": [
      "enter a word:THIS IS A TEST TO FAIL\n",
      "Vowels are present and total are: 7\n"
     ]
    }
   ],
   "source": [
    "#vowels\n",
    "word=input(\"enter a word:\").lower()\n",
    "count1=word.count('a')\n",
    "count2=word.count('e')\n",
    "count3=word.count('i' )\n",
    "count4=word.count('o')\n",
    "count5=word.count('u')\n",
    "count=count1+count2+count3+count4+count5\n",
    "print(\"Vowels are present and total are:\", count)"
   ]
  },
  {
   "cell_type": "code",
   "execution_count": 3,
   "id": "df57de76",
   "metadata": {},
   "outputs": [
    {
     "name": "stdout",
     "output_type": "stream",
     "text": [
      "enter a word:this is a test to fail\n",
      "Vowels are present and total are: 7\n",
      "vowels a,e,i,o,u:  2 1 3 1 0\n"
     ]
    }
   ],
   "source": [
    "#vowels\n",
    "word=input(\"enter a word:\").lower()\n",
    "count1=word.count('a')\n",
    "count2=word.count('e')\n",
    "count3=word.count('i' )\n",
    "count4=word.count('o')\n",
    "count5=word.count('u')\n",
    "count=count1+count2+count3+count4+count5\n",
    "print(\"Vowels are present and total are:\", count)\n",
    "print(\"vowels a,e,i,o,u: \", count1,count2,count3,count4,count5)"
   ]
  },
  {
   "cell_type": "code",
   "execution_count": 4,
   "id": "55e0e1a2",
   "metadata": {},
   "outputs": [
    {
     "name": "stdout",
     "output_type": "stream",
     "text": [
      "enter a word:this is a test to pass\n",
      "Count of a is 2\n",
      "Count of e is 1\n",
      "Count of i is 2\n",
      "Count of o is 1\n",
      "Count of u is 0\n"
     ]
    }
   ],
   "source": [
    "#vowels\n",
    "word=input(\"enter a word:\").lower()\n",
    "str=\"aeiou\"\n",
    "for i in str:\n",
    "    print(\"Count of\",i,\"is\",word.count(i))\n"
   ]
  },
  {
   "cell_type": "code",
   "execution_count": 5,
   "id": "54f3d4b7",
   "metadata": {},
   "outputs": [
    {
     "name": "stdout",
     "output_type": "stream",
     "text": [
      "enter a word:this is a line test\n",
      "Count of a is 1\n",
      "Count of e is 2\n",
      "Count of i is 3\n",
      "Count of o is 0\n",
      "Count of u is 0\n",
      "Total vowels are: 5\n"
     ]
    }
   ],
   "source": [
    "#vowels\n",
    "word=input(\"enter a word:\").lower()\n",
    "str=\"aeiou\"\n",
    "count=0\n",
    "for i in str:\n",
    "    print(\"Count of\",i,\"is\",word.count(i))\n",
    "    count+=1\n",
    "print(\"Total vowels are:\", count)"
   ]
  },
  {
   "cell_type": "code",
   "execution_count": 2,
   "id": "4161818f",
   "metadata": {},
   "outputs": [
    {
     "name": "stdout",
     "output_type": "stream",
     "text": [
      "enter a word:hardh kesarwani\n",
      "s ----> 1\n",
      "r ----> 2\n",
      "w ----> 1\n",
      "k ----> 1\n",
      "n ----> 1\n",
      "e ----> 1\n",
      "a ----> 3\n",
      "i ----> 1\n",
      "d ----> 1\n",
      "h ----> 2\n"
     ]
    }
   ],
   "source": [
    "#count frequency of string\n",
    "#eg. this is it\n",
    "# t-1 h-1 i-3 s-2 t-1\n",
    "# take line, add each character to set, count element of set in line\n",
    "line=input(\"enter a word:\")\n",
    "setline=set(line)\n",
    "setline.remove(\" \")\n",
    "for i in setline:\n",
    "    print(i,\"---->\", line.count(i))"
   ]
  },
  {
   "cell_type": "code",
   "execution_count": 3,
   "id": "7ea33ecd",
   "metadata": {},
   "outputs": [
    {
     "name": "stdout",
     "output_type": "stream",
     "text": [
      "enter a word:heloo i am harsh\n",
      "a ----> 2\n",
      "e ----> 1\n",
      "h ----> 3\n",
      "i ----> 1\n",
      "l ----> 1\n",
      "m ----> 1\n",
      "o ----> 2\n",
      "r ----> 1\n",
      "s ----> 1\n"
     ]
    }
   ],
   "source": [
    "#count frequency of string\n",
    "#eg. this is it\n",
    "# t-1 h-1 i-3 s-2 t-1\n",
    "# take line, add each character to set, count element of set in line\n",
    "line=input(\"enter a word:\")\n",
    "setline=set(line)\n",
    "setline.remove(\" \")\n",
    "for i in sorted(setline):\n",
    "    print(i,\"---->\", line.count(i))"
   ]
  },
  {
   "cell_type": "code",
   "execution_count": 5,
   "id": "cb48f13b",
   "metadata": {},
   "outputs": [
    {
     "name": "stdout",
     "output_type": "stream",
     "text": [
      "enter a word:this is this my way tu way\n",
      "tu ----> 1\n",
      "way ----> 2\n",
      "this ----> 2\n",
      "my ----> 1\n",
      "is ----> 1\n"
     ]
    }
   ],
   "source": [
    "#count freq of each word unique\n",
    "#read line , break in a list, convert to set, sort\n",
    "#count each word in list\n",
    "#for word search count use always search in list not in string  \n",
    "\n",
    "line=input(\"enter a word:\")\n",
    "list1=line.split(\" \")\n",
    "list2=set(list1)\n",
    "for i in list2:\n",
    "    print(i,\"---->\", list1.count(i))\n"
   ]
  },
  {
   "cell_type": "code",
   "execution_count": 15,
   "id": "c96ae653",
   "metadata": {},
   "outputs": [
    {
     "name": "stdout",
     "output_type": "stream",
     "text": [
      "enter a word:this is it\n",
      "['it', 'is', 'this']\n",
      "it is this "
     ]
    }
   ],
   "source": [
    "#reverse line\n",
    "#eg. this is it---> it is this\n",
    "# break line in word      reverse a list     use + to create a new line of string\n",
    "line=input(\"enter a word:\")\n",
    "list1=line.split(\" \")\n",
    "list2=list1[::-1]\n",
    "print(list2)\n",
    "for i in list2:\n",
    "    print(i,end=\" \")"
   ]
  },
  {
   "cell_type": "code",
   "execution_count": 16,
   "id": "75031e4d",
   "metadata": {},
   "outputs": [
    {
     "name": "stdout",
     "output_type": "stream",
     "text": [
      "enter a word:this is it\n",
      "['it', 'is', 'this']\n",
      "rline:   it\n",
      "rline:   it is\n",
      "rline:   it is this\n"
     ]
    }
   ],
   "source": [
    "#reverse line\n",
    "#eg. this is it---> it is this\n",
    "# break line in word      reverse a list     use + to create a new line of string\n",
    "line=input(\"enter a word:\")\n",
    "list1=line.split(\" \")\n",
    "list2=list1[::-1]\n",
    "rline=\"\"\n",
    "print(list2)\n",
    "for word in list2:\n",
    "    rline+=\" \"+word\n",
    "    print(\"rline: \",rline)"
   ]
  },
  {
   "cell_type": "code",
   "execution_count": 28,
   "id": "30a43506",
   "metadata": {},
   "outputs": [
    {
     "name": "stdout",
     "output_type": "stream",
     "text": [
      "Rollno 1 --- amar\n",
      "Rollno 2 --- chinki\n",
      "Rollno 3 --- jerry\n",
      "Rollno 4 --- pinky\n",
      "Rollno 5 --- tamar\n",
      "Rollno 6 --- tom\n",
      "Rollno 7 --- zamar\n"
     ]
    }
   ],
   "source": [
    "# we have list of student name print them with assigning roll on\n",
    "#in order\n",
    "slist=[\"zamar\",\"amar\",\"tamar\",\"chinki\",\"pinky\",\"tom\",\"jerry\"]\n",
    "#rollno 1-amar\n",
    "#rollno 2-chinki\n",
    "slist=sorted(slist)\n",
    "for i in range(len(slist)):\n",
    "    print(\"Rollno\",i+1,\"---\",slist[i])"
   ]
  },
  {
   "cell_type": "code",
   "execution_count": 34,
   "id": "ca7de8aa",
   "metadata": {},
   "outputs": [
    {
     "name": "stdout",
     "output_type": "stream",
     "text": [
      "abc\n"
     ]
    }
   ],
   "source": [
    "#print all combination of charcters\n",
    "#word= abc--- abc,bca,cab,acb,bac,cba\n",
    "\n",
    "word=\"abc\"\n",
    "n=6\n",
    "for i in range(n):\n",
    "    newword=word[i]\n",
    "    word.\n",
    "    for j in range(len(word)):\n",
    "        \n",
    "    \n"
   ]
  }
 ],
 "metadata": {
  "kernelspec": {
   "display_name": "Python 3 (ipykernel)",
   "language": "python",
   "name": "python3"
  },
  "language_info": {
   "codemirror_mode": {
    "name": "ipython",
    "version": 3
   },
   "file_extension": ".py",
   "mimetype": "text/x-python",
   "name": "python",
   "nbconvert_exporter": "python",
   "pygments_lexer": "ipython3",
   "version": "3.10.11"
  }
 },
 "nbformat": 4,
 "nbformat_minor": 5
}
