{
  "cells": [
    {
      "cell_type": "markdown",
      "id": "46a2641c",
      "metadata": {
        "id": "46a2641c"
      },
      "source": [
        "# List"
      ]
    },
    {
      "cell_type": "code",
      "execution_count": null,
      "id": "bafe2804",
      "metadata": {
        "scrolled": true,
        "id": "bafe2804",
        "outputId": "a4e50224-5936-4679-fe7a-05f324cac399"
      },
      "outputs": [
        {
          "name": "stdout",
          "output_type": "stream",
          "text": [
            "Total elements on list: 7\n",
            "66\n"
          ]
        }
      ],
      "source": [
        "#List\n",
        "#dynamic,hetrogeneous,indexed and allows duplicates\n",
        "#access via +ve index or -ve index\n",
        "data=[11,22,33,44,55,66,77]\n",
        "print(\"Total elements on list:\",len(data))\n",
        "print(data[5])"
      ]
    },
    {
      "cell_type": "markdown",
      "id": "a8fad806",
      "metadata": {
        "id": "a8fad806"
      },
      "source": [
        "Properties: It doesn't change anywhere"
      ]
    },
    {
      "cell_type": "code",
      "execution_count": null,
      "id": "b59838be",
      "metadata": {
        "id": "b59838be",
        "outputId": "5699dd37-0761-4d38-9f69-ed5fdc7076dc"
      },
      "outputs": [
        {
          "name": "stdout",
          "output_type": "stream",
          "text": [
            "['amar', 123, True, 3.14, 'amar', 123, True, 3.14, 'amar', 123, True, 3.14]\n"
          ]
        }
      ],
      "source": [
        "data=[\"amar\",123,True,3.14]\n",
        "print(data*3)"
      ]
    },
    {
      "cell_type": "code",
      "execution_count": null,
      "id": "8f434be3",
      "metadata": {
        "scrolled": true,
        "id": "8f434be3",
        "outputId": "1610a334-691a-45d1-ccfa-1720a4fe0de9"
      },
      "outputs": [
        {
          "name": "stdout",
          "output_type": "stream",
          "text": [
            "11\n",
            "22\n",
            "33\n",
            "44\n",
            "55\n",
            "66\n",
            "77\n",
            "88\n"
          ]
        }
      ],
      "source": [
        "data=[11,22,33,44,55,66,77,88]\n",
        "for i in data:#auto iteration\n",
        "    print(i)#i as item"
      ]
    },
    {
      "cell_type": "code",
      "execution_count": null,
      "id": "1035a5a7",
      "metadata": {
        "id": "1035a5a7",
        "outputId": "de2914ca-3fef-44cd-b8ee-3d1d95a5c936"
      },
      "outputs": [
        {
          "name": "stdout",
          "output_type": "stream",
          "text": [
            "at 0 we have 11\n",
            "at 1 we have 22\n",
            "at 2 we have 33\n",
            "at 3 we have 44\n",
            "at 4 we have 55\n",
            "at 5 we have 66\n",
            "at 6 we have 77\n",
            "at 7 we have 88\n"
          ]
        }
      ],
      "source": [
        "data=[11,22,33,44,55,66,77,88]\n",
        "for i in range(0,len(data)):#auto iteration\n",
        "    print(\"at\",i,\"we have\",data[i])#i as index"
      ]
    },
    {
      "cell_type": "code",
      "execution_count": null,
      "id": "550b1fe3",
      "metadata": {
        "id": "550b1fe3",
        "outputId": "5c57f25b-0621-41ae-b437-db8cef154b0b"
      },
      "outputs": [
        {
          "data": {
            "text/plain": [
              "88"
            ]
          },
          "execution_count": 5,
          "metadata": {},
          "output_type": "execute_result"
        }
      ],
      "source": [
        "data=[11,22,33,44,55,66,77,88]\n",
        "sum(data)#only works with all numbers\n",
        "min(data)#only works with singular type of data\n",
        "max(data)"
      ]
    },
    {
      "cell_type": "code",
      "execution_count": null,
      "id": "a258ee07",
      "metadata": {
        "scrolled": true,
        "id": "a258ee07",
        "outputId": "170c57c3-98f1-4b51-ea34-47fec6bd9754"
      },
      "outputs": [
        {
          "data": {
            "text/plain": [
              "[11, 22, 33, 44, 55, 66, 77, 88, 11, 22, 33, 44, 55, 66, 77, 88]"
            ]
          },
          "execution_count": 6,
          "metadata": {},
          "output_type": "execute_result"
        }
      ],
      "source": [
        "data*2# *n repeates it n times"
      ]
    },
    {
      "cell_type": "code",
      "execution_count": null,
      "id": "6f8f4faa",
      "metadata": {
        "scrolled": true,
        "id": "6f8f4faa",
        "outputId": "baee9c4a-cc77-4d5d-f8ad-303dcdf38a3b"
      },
      "outputs": [
        {
          "name": "stdout",
          "output_type": "stream",
          "text": [
            "[1, 2, 3, 4, 11, 22, 33, 44, 55]\n"
          ]
        }
      ],
      "source": [
        "data1=[1,2,3,4]\n",
        "data2=[11,22,33,44,55]\n",
        "data3=data1+data2#+ combines 2 or more lists\n",
        "print(data3)"
      ]
    },
    {
      "cell_type": "markdown",
      "id": "d161ad13",
      "metadata": {
        "id": "d161ad13"
      },
      "source": [
        "Methods of List"
      ]
    },
    {
      "cell_type": "code",
      "execution_count": null,
      "id": "5835ef42",
      "metadata": {
        "scrolled": true,
        "id": "5835ef42",
        "outputId": "308a155f-6f56-4641-c37b-adcc59f8fa1d"
      },
      "outputs": [
        {
          "name": "stdout",
          "output_type": "stream",
          "text": [
            "Enter data45\n",
            "data has: [11, 22, 33, 44, 55, 66, 77, 88, '45'] total of 9 elements\n"
          ]
        }
      ],
      "source": [
        "data.append(input(\"Enter data\"))\n",
        "print(\"data has:\",data,\"total of\",len(data),\"elements\")"
      ]
    },
    {
      "cell_type": "code",
      "execution_count": null,
      "id": "4c83ee04",
      "metadata": {
        "id": "4c83ee04"
      },
      "outputs": [],
      "source": [
        "data.append([11,22,33])"
      ]
    },
    {
      "cell_type": "code",
      "execution_count": null,
      "id": "b7a2e060",
      "metadata": {
        "id": "b7a2e060",
        "outputId": "69d48cfe-8d13-4e1b-f7d3-2dc144a38a76"
      },
      "outputs": [
        {
          "data": {
            "text/plain": [
              "[11, 22, 33, 44, 55, 66, 77, 88, '45', [11, 22, 33]]"
            ]
          },
          "execution_count": 10,
          "metadata": {},
          "output_type": "execute_result"
        }
      ],
      "source": [
        "data"
      ]
    },
    {
      "cell_type": "code",
      "execution_count": null,
      "id": "74316b24",
      "metadata": {
        "id": "74316b24",
        "outputId": "a29b0042-582e-4ad4-bd71-c1078f90358b"
      },
      "outputs": [
        {
          "name": "stdout",
          "output_type": "stream",
          "text": [
            "data has: ['trytry', 'trytry', 11, 22, 33, 44, 55, 66, 77, 88, '45', [11, 22, 33]] total of 12 elements\n"
          ]
        }
      ],
      "source": [
        "data.insert(-100,\"trytry\")\n",
        "print(\"data has:\",data,\"total of\",len(data),\"elements\")"
      ]
    },
    {
      "cell_type": "code",
      "execution_count": null,
      "id": "05d2f6d4",
      "metadata": {
        "id": "05d2f6d4",
        "outputId": "1b2c30ca-41fb-434d-f58f-2e2816c2de38"
      },
      "outputs": [
        {
          "name": "stdout",
          "output_type": "stream",
          "text": [
            "data has: ['trytry', 'trytry', 11, 22, 33, 44, 55, 66, 77, 88, '45', [11, 22, 33], 1, 2, 3, 4, 5, 6] total of 18 elements\n"
          ]
        }
      ],
      "source": [
        "data.extend([1,2,3,4,5,6])\n",
        "print(\"data has:\",data,\"total of\",len(data),\"elements\")"
      ]
    },
    {
      "cell_type": "code",
      "execution_count": null,
      "id": "f969968c",
      "metadata": {
        "id": "f969968c",
        "outputId": "3b4992c9-3a72-4264-8dbd-9cd0473e9001"
      },
      "outputs": [
        {
          "data": {
            "text/plain": [
              "['trytry',\n",
              " 'trytry',\n",
              " 11,\n",
              " 22,\n",
              " 33,\n",
              " 44,\n",
              " 55,\n",
              " 66,\n",
              " 77,\n",
              " 88,\n",
              " '45',\n",
              " [11, 22, 33],\n",
              " 1,\n",
              " 2,\n",
              " 3,\n",
              " 4,\n",
              " 5,\n",
              " 6]"
            ]
          },
          "execution_count": 14,
          "metadata": {},
          "output_type": "execute_result"
        }
      ],
      "source": [
        "data"
      ]
    },
    {
      "cell_type": "code",
      "execution_count": null,
      "id": "3cf50299",
      "metadata": {
        "id": "3cf50299",
        "outputId": "5629069c-e93c-42d0-b51c-c59b1190318f"
      },
      "outputs": [
        {
          "data": {
            "text/plain": [
              "6"
            ]
          },
          "execution_count": 15,
          "metadata": {},
          "output_type": "execute_result"
        }
      ],
      "source": [
        "data.pop()#removes elements from last"
      ]
    },
    {
      "cell_type": "code",
      "execution_count": null,
      "id": "4a6ced80",
      "metadata": {
        "id": "4a6ced80",
        "outputId": "89d04108-098d-4084-ab31-1078547a561a"
      },
      "outputs": [
        {
          "data": {
            "text/plain": [
              "22"
            ]
          },
          "execution_count": 16,
          "metadata": {},
          "output_type": "execute_result"
        }
      ],
      "source": [
        "data.pop(3)#indexed based removal"
      ]
    },
    {
      "cell_type": "code",
      "execution_count": null,
      "id": "ed18226d",
      "metadata": {
        "id": "ed18226d"
      },
      "outputs": [],
      "source": [
        "data.remove(\"trytry\")#element wise removal"
      ]
    },
    {
      "cell_type": "code",
      "execution_count": null,
      "id": "5cc9b7b3",
      "metadata": {
        "id": "5cc9b7b3",
        "outputId": "bedcc970-fe3c-433d-918c-15b932e2ca01"
      },
      "outputs": [
        {
          "ename": "ValueError",
          "evalue": "420 is not in list",
          "output_type": "error",
          "traceback": [
            "\u001b[1;31m---------------------------------------------------------------------------\u001b[0m",
            "\u001b[1;31mValueError\u001b[0m                                Traceback (most recent call last)",
            "Cell \u001b[1;32mIn[18], line 2\u001b[0m\n\u001b[0;32m      1\u001b[0m data\u001b[38;5;241m=\u001b[39m[\u001b[38;5;241m11\u001b[39m,\u001b[38;5;241m2\u001b[39m,\u001b[38;5;241m11\u001b[39m,\u001b[38;5;241m33\u001b[39m,\u001b[38;5;241m4\u001b[39m,\u001b[38;5;241m22\u001b[39m,\u001b[38;5;241m55\u001b[39m,\u001b[38;5;241m26\u001b[39m,\u001b[38;5;241m87\u001b[39m,\u001b[38;5;241m23\u001b[39m]\n\u001b[1;32m----> 2\u001b[0m \u001b[43mdata\u001b[49m\u001b[38;5;241;43m.\u001b[39;49m\u001b[43mindex\u001b[49m\u001b[43m(\u001b[49m\u001b[38;5;241;43m420\u001b[39;49m\u001b[43m)\u001b[49m\n\u001b[0;32m      3\u001b[0m \u001b[38;5;66;03m#data.count(420)\u001b[39;00m\n",
            "\u001b[1;31mValueError\u001b[0m: 420 is not in list"
          ]
        }
      ],
      "source": [
        "data=[11,2,11,33,4,22,55,26,87,23]\n",
        "data.index(420)\n",
        "#data.count(420)"
      ]
    },
    {
      "cell_type": "code",
      "execution_count": null,
      "id": "670a8c82",
      "metadata": {
        "id": "670a8c82"
      },
      "outputs": [],
      "source": [
        "data.sort(reverse=True)"
      ]
    },
    {
      "cell_type": "code",
      "execution_count": null,
      "id": "85dfa929",
      "metadata": {
        "id": "85dfa929",
        "outputId": "ea8266fd-5fb0-4242-df69-246489764ca2"
      },
      "outputs": [
        {
          "name": "stdout",
          "output_type": "stream",
          "text": [
            "[2, 11, 22, 34, 44, 66, 88]\n",
            "[2, 11, 44, 66, 22, 88, 34]\n"
          ]
        }
      ],
      "source": [
        "d=[2,11,44,66,22,88,34]\n",
        "print(sorted(d))#temp method by default it returns a list\n",
        "print(d)"
      ]
    },
    {
      "cell_type": "code",
      "execution_count": null,
      "id": "e77fcfff",
      "metadata": {
        "id": "e77fcfff",
        "outputId": "c6cba536-2722-4042-844a-0192cf2a7e1f"
      },
      "outputs": [
        {
          "name": "stdout",
          "output_type": "stream",
          "text": [
            "[2, 11, 22, 34, 44, 66, 88]\n"
          ]
        }
      ],
      "source": [
        "d=[2,11,44,66,22,88,34]\n",
        "d.sort()#inplace menthod-fixed changes\n",
        "print(d)"
      ]
    },
    {
      "cell_type": "code",
      "execution_count": null,
      "id": "07965f05",
      "metadata": {
        "id": "07965f05",
        "outputId": "36622620-b704-45a3-b4f5-754f98dc27f1"
      },
      "outputs": [
        {
          "data": {
            "text/plain": [
              "[87, 55, 33, 26, 23, 22, 11, 11, 4, 2]"
            ]
          },
          "execution_count": 22,
          "metadata": {},
          "output_type": "execute_result"
        }
      ],
      "source": [
        "data"
      ]
    },
    {
      "cell_type": "code",
      "execution_count": null,
      "id": "72cef2fb",
      "metadata": {
        "id": "72cef2fb",
        "outputId": "943ddff3-1df7-4c08-b810-c159979d880a"
      },
      "outputs": [
        {
          "data": {
            "text/plain": [
              "2"
            ]
          },
          "execution_count": 23,
          "metadata": {},
          "output_type": "execute_result"
        }
      ],
      "source": [
        "m=[[11,22,[1,2,3]],[44,55],[66,77,88,99]]\n",
        "\n",
        "m[0][2][1]"
      ]
    },
    {
      "cell_type": "code",
      "execution_count": null,
      "id": "2240cb97",
      "metadata": {
        "id": "2240cb97",
        "outputId": "3984aa99-317d-4aab-ea38-7fac626895ca"
      },
      "outputs": [
        {
          "name": "stdout",
          "output_type": "stream",
          "text": [
            "Row: [11, 22, [1, 2, 3]]\n",
            "Row: [44, 55]\n",
            "Row: [66, 77, 88, 99]\n"
          ]
        }
      ],
      "source": [
        "for row in m:\n",
        "    print(\"Row:\",row)"
      ]
    },
    {
      "cell_type": "code",
      "execution_count": null,
      "id": "e22c7640",
      "metadata": {
        "id": "e22c7640",
        "outputId": "e3f09101-2a09-43d0-d5ca-0186247257f5"
      },
      "outputs": [
        {
          "name": "stdout",
          "output_type": "stream",
          "text": [
            "11\n",
            "22\n",
            "[1, 2, 3]\n",
            "44\n",
            "55\n",
            "66\n",
            "77\n",
            "88\n",
            "99\n"
          ]
        }
      ],
      "source": [
        "for row in m:\n",
        "    for item in row:\n",
        "        print(item)"
      ]
    },
    {
      "cell_type": "code",
      "execution_count": null,
      "id": "d805afe6",
      "metadata": {
        "id": "d805afe6",
        "outputId": "67aa7f1d-79a1-47c5-d2c8-e2eab33baef4"
      },
      "outputs": [
        {
          "name": "stdout",
          "output_type": "stream",
          "text": [
            "Enter the data:42\n",
            "Enter the data:10.2\n",
            "Enter the data:63\n",
            "Enter the data:135\n",
            "Enter the data:021.2\n",
            "Enter the data:\n",
            "Total of  5 elements added to the list\n",
            "sum OF ELEMEMTS are 271.4\n",
            "Average: 54.279999999999994\n",
            "42.0\n"
          ]
        },
        {
          "ename": "NameError",
          "evalue": "name 'count' is not defined",
          "output_type": "error",
          "traceback": [
            "\u001b[1;31m---------------------------------------------------------------------------\u001b[0m",
            "\u001b[1;31mNameError\u001b[0m                                 Traceback (most recent call last)",
            "Cell \u001b[1;32mIn[9], line 19\u001b[0m\n\u001b[0;32m     17\u001b[0m \u001b[38;5;28;01mif\u001b[39;00m item\u001b[38;5;241m<\u001b[39mavg:\n\u001b[0;32m     18\u001b[0m     \u001b[38;5;28mprint\u001b[39m(item)\n\u001b[1;32m---> 19\u001b[0m \u001b[38;5;28mprint\u001b[39m(\u001b[38;5;124m\"\u001b[39m\u001b[38;5;124mCount of \u001b[39m\u001b[38;5;124m\"\u001b[39m,item,\u001b[38;5;124m\"\u001b[39m\u001b[38;5;124mis\u001b[39m\u001b[38;5;124m\"\u001b[39m,\u001b[43mcount\u001b[49m(item))\n",
            "\u001b[1;31mNameError\u001b[0m: name 'count' is not defined"
          ]
        }
      ],
      "source": [
        "#create a list and data till user stops giving data\n",
        "#1.1 Cal sum\n",
        "#1.2 print only elements lesser than avg\n",
        "#1.3 print count of each element\n",
        "\n",
        "dlist=[]\n",
        "while True:\n",
        "    data=input(\"Enter the data:\")\n",
        "    if data==\"\":\n",
        "        break\n",
        "    dlist.append(float(data))\n",
        "print(\"Total of \",len(dlist),\"elements added to the list\")\n",
        "print(\"sum OF ELEMEMTS are\",sum(dlist))\n",
        "avg=sum(dlist)/len(dlist)\n",
        "print(\"Average:\",avg)\n",
        "for item in dlist:\n",
        "    if item<avg:\n",
        "        print(item)\n",
        "    print(\"Count of \",item,\"is\",count(item))\n",
        "\n",
        "\n"
      ]
    },
    {
      "cell_type": "code",
      "execution_count": null,
      "id": "7e6081ec",
      "metadata": {
        "id": "7e6081ec",
        "outputId": "5e22ecca-85d9-4f68-9441-93a7e9f74315"
      },
      "outputs": [
        {
          "name": "stdout",
          "output_type": "stream",
          "text": [
            "Enter the data:42.1\n",
            "Enter the data:10.23\n",
            "Enter the data:48\n",
            "Enter the data:169\n",
            "Enter the data:152.3\n",
            "Enter the data:\n",
            "Total of  5 elements added to the list\n",
            "sum OF ELEMEMTS are 421.63\n",
            "Average: 84.326\n",
            "Lesser than average is [42.1, 10.23, 48.0]\n",
            "Greater than average is [169.0, 152.3]\n"
          ]
        }
      ],
      "source": [
        "#from the list create 2 list one lesser than avg and other greater\n",
        "# 3 list 1 for data 2 of <avg 3> avg\n",
        "# fing avg and if item<avg append to list 1 else to list 2\n",
        "d1=[]\n",
        "dlist=[]\n",
        "d2=[]\n",
        "while True:\n",
        "    data=input(\"Enter the data:\")\n",
        "    if data==\"\":\n",
        "        break\n",
        "    dlist.append(float(data))\n",
        "print(\"Total of \",len(dlist),\"elements added to the list\")\n",
        "print(\"sum OF ELEMEMTS are\",sum(dlist))\n",
        "avg=sum(dlist)/len(dlist)\n",
        "print(\"Average:\",avg)\n",
        "for item in dlist:\n",
        "    if item<avg:\n",
        "        d1.append(item)\n",
        "    else:\n",
        "        d2.append(item)\n",
        "print(\"Lesser than average is\",d1)\n",
        "print(\"Greater than average is\",d2)"
      ]
    },
    {
      "cell_type": "code",
      "execution_count": null,
      "id": "63e2ac29",
      "metadata": {
        "id": "63e2ac29",
        "outputId": "c08f251c-c6e5-40bc-eae8-2bac332b3295"
      },
      "outputs": [
        {
          "name": "stdout",
          "output_type": "stream",
          "text": [
            "Second Largest: 56\n",
            "Second smallest: 5\n"
          ]
        }
      ],
      "source": [
        "d=[11,22,5,2,8,33,98,23,56]\n",
        "d.sort()\n",
        "print(\"Second Largest:\",d[-2])\n",
        "print(\"Second smallest:\",d[1])"
      ]
    },
    {
      "cell_type": "code",
      "execution_count": null,
      "id": "ca2d6899",
      "metadata": {
        "id": "ca2d6899",
        "outputId": "4e074a17-1b8d-4c2e-ea88-42d86348d3f7"
      },
      "outputs": [
        {
          "data": {
            "text/plain": [
              "56"
            ]
          },
          "execution_count": 13,
          "metadata": {},
          "output_type": "execute_result"
        }
      ],
      "source": [
        "d=[11,22,5,2,8,33,98,23,56]\n",
        "sorted(d)[-2]"
      ]
    },
    {
      "cell_type": "code",
      "execution_count": null,
      "id": "2692d7a5",
      "metadata": {
        "id": "2692d7a5",
        "outputId": "a66f2770-3ee9-49c0-fd1f-4aea82e5a305"
      },
      "outputs": [
        {
          "data": {
            "text/plain": [
              "[56, 23, 98, 33, 8, 2, 5, 22, 11]"
            ]
          },
          "execution_count": 15,
          "metadata": {},
          "output_type": "execute_result"
        }
      ],
      "source": [
        "d[::-1]"
      ]
    },
    {
      "cell_type": "code",
      "execution_count": null,
      "id": "f62c60bb",
      "metadata": {
        "id": "f62c60bb",
        "outputId": "5638c578-d383-4956-b79c-2910cb5456fc"
      },
      "outputs": [
        {
          "name": "stdout",
          "output_type": "stream",
          "text": [
            "[11, 22, 5, 2, 8, 33, 98, 23, 56]\n"
          ]
        }
      ],
      "source": [
        "d.reverse()#in place\n",
        "print(d)"
      ]
    },
    {
      "cell_type": "markdown",
      "id": "6fb083a4",
      "metadata": {
        "id": "6fb083a4"
      },
      "source": [
        "# Tuples"
      ]
    },
    {
      "cell_type": "code",
      "execution_count": null,
      "id": "9a5cc26b",
      "metadata": {
        "id": "9a5cc26b"
      },
      "outputs": [],
      "source": [
        "t=(\"harsh\",123,5.2)"
      ]
    },
    {
      "cell_type": "code",
      "execution_count": null,
      "id": "57ba0d13",
      "metadata": {
        "id": "57ba0d13",
        "outputId": "3ff28ff6-c783-4bc8-bb09-09e3970dfb5e"
      },
      "outputs": [
        {
          "data": {
            "text/plain": [
              "tuple"
            ]
          },
          "execution_count": 19,
          "metadata": {},
          "output_type": "execute_result"
        }
      ],
      "source": [
        "type(t)"
      ]
    },
    {
      "cell_type": "code",
      "execution_count": null,
      "id": "a05dee63",
      "metadata": {
        "id": "a05dee63",
        "outputId": "88c2a9d5-2b99-4b2f-90f1-8414d83b9847"
      },
      "outputs": [
        {
          "ename": "AttributeError",
          "evalue": "'tuple' object has no attribute 'append'",
          "output_type": "error",
          "traceback": [
            "\u001b[1;31m---------------------------------------------------------------------------\u001b[0m",
            "\u001b[1;31mAttributeError\u001b[0m                            Traceback (most recent call last)",
            "Cell \u001b[1;32mIn[20], line 1\u001b[0m\n\u001b[1;32m----> 1\u001b[0m \u001b[43mt\u001b[49m\u001b[38;5;241;43m.\u001b[39;49m\u001b[43mappend\u001b[49m(\u001b[38;5;241m145\u001b[39m)\n",
            "\u001b[1;31mAttributeError\u001b[0m: 'tuple' object has no attribute 'append'"
          ]
        }
      ],
      "source": [
        "t.append(145) #static immutable for security purpose"
      ]
    },
    {
      "cell_type": "code",
      "execution_count": null,
      "id": "9442f692",
      "metadata": {
        "id": "9442f692",
        "outputId": "96723f15-8ee6-45a7-a2b2-9a007cd581ba"
      },
      "outputs": [
        {
          "name": "stdout",
          "output_type": "stream",
          "text": [
            "('abc', 'xyz')\n"
          ]
        }
      ],
      "source": [
        "t=(\"abc\",\"xyz\") # in this we replace that tuples\n",
        "print(t)"
      ]
    },
    {
      "cell_type": "code",
      "execution_count": null,
      "id": "0002044c",
      "metadata": {
        "id": "0002044c"
      },
      "outputs": [],
      "source": [
        "t=(10,2,[45,65])"
      ]
    },
    {
      "cell_type": "code",
      "execution_count": null,
      "id": "15419a67",
      "metadata": {
        "id": "15419a67"
      },
      "outputs": [],
      "source": [
        "t[2].append(100)"
      ]
    },
    {
      "cell_type": "code",
      "execution_count": null,
      "id": "91201bb6",
      "metadata": {
        "id": "91201bb6",
        "outputId": "2fe1440e-1998-41b0-ecf7-e7837a7f4917"
      },
      "outputs": [
        {
          "data": {
            "text/plain": [
              "(10, 2, [45, 65, 100])"
            ]
          },
          "execution_count": 26,
          "metadata": {},
          "output_type": "execute_result"
        }
      ],
      "source": [
        "t\n"
      ]
    },
    {
      "cell_type": "markdown",
      "id": "8597d65f",
      "metadata": {
        "id": "8597d65f"
      },
      "source": [
        "# Sets: non duplication, not indexing, auto iteration allowed"
      ]
    },
    {
      "cell_type": "code",
      "execution_count": null,
      "id": "adcecdd2",
      "metadata": {
        "id": "adcecdd2",
        "outputId": "b61696a7-86e2-4167-b3e9-3318c5580c5a"
      },
      "outputs": [
        {
          "data": {
            "text/plain": [
              "set"
            ]
          },
          "execution_count": 1,
          "metadata": {},
          "output_type": "execute_result"
        }
      ],
      "source": [
        "s=set()\n",
        "type(s)"
      ]
    },
    {
      "cell_type": "code",
      "execution_count": null,
      "id": "15a4fd8d",
      "metadata": {
        "id": "15a4fd8d",
        "outputId": "41610434-62f7-43ac-ea9e-da1141d6710d"
      },
      "outputs": [
        {
          "data": {
            "text/plain": [
              "dict"
            ]
          },
          "execution_count": 2,
          "metadata": {},
          "output_type": "execute_result"
        }
      ],
      "source": [
        "s={}\n",
        "type(s)"
      ]
    },
    {
      "cell_type": "code",
      "execution_count": null,
      "id": "681d5a51",
      "metadata": {
        "id": "681d5a51",
        "outputId": "a5324783-733c-48ee-94aa-a82276878547"
      },
      "outputs": [
        {
          "data": {
            "text/plain": [
              "set"
            ]
          },
          "execution_count": 3,
          "metadata": {},
          "output_type": "execute_result"
        }
      ],
      "source": [
        "s={0}\n",
        "type(s)"
      ]
    },
    {
      "cell_type": "markdown",
      "id": "1eb4948a",
      "metadata": {
        "id": "1eb4948a"
      },
      "source": [
        "Operation"
      ]
    },
    {
      "cell_type": "code",
      "execution_count": null,
      "id": "8b9c9112",
      "metadata": {
        "id": "8b9c9112"
      },
      "outputs": [],
      "source": [
        "a={1,2,3,5}\n",
        "b={4,5,6}\n"
      ]
    },
    {
      "cell_type": "code",
      "execution_count": null,
      "id": "165cf30f",
      "metadata": {
        "id": "165cf30f",
        "outputId": "b21b90a2-f769-474b-9603-78105b6fbbcc"
      },
      "outputs": [
        {
          "data": {
            "text/plain": [
              "{1, 2, 3, 4, 5, 6}"
            ]
          },
          "execution_count": 5,
          "metadata": {},
          "output_type": "execute_result"
        }
      ],
      "source": [
        "a|b #union"
      ]
    },
    {
      "cell_type": "code",
      "execution_count": null,
      "id": "3c7bf1de",
      "metadata": {
        "id": "3c7bf1de",
        "outputId": "a36a7687-99e9-4985-8fa3-5fdf5fb59d75"
      },
      "outputs": [
        {
          "data": {
            "text/plain": [
              "{5}"
            ]
          },
          "execution_count": 6,
          "metadata": {},
          "output_type": "execute_result"
        }
      ],
      "source": [
        "a&b #intersection"
      ]
    },
    {
      "cell_type": "code",
      "execution_count": null,
      "id": "a47ddae7",
      "metadata": {
        "id": "a47ddae7",
        "outputId": "b049abe8-7f34-4968-a4c0-dc01f0877870"
      },
      "outputs": [
        {
          "data": {
            "text/plain": [
              "{1, 2, 3, 4, 6}"
            ]
          },
          "execution_count": 7,
          "metadata": {},
          "output_type": "execute_result"
        }
      ],
      "source": [
        "a^b\n",
        "# symmetric difference"
      ]
    },
    {
      "cell_type": "code",
      "execution_count": null,
      "id": "3c01c5fb",
      "metadata": {
        "id": "3c01c5fb",
        "outputId": "23c44c4c-ef09-4065-9b4d-7bdb49fdd0c2"
      },
      "outputs": [
        {
          "data": {
            "text/plain": [
              "{1, 2, 3}"
            ]
          },
          "execution_count": 8,
          "metadata": {},
          "output_type": "execute_result"
        }
      ],
      "source": [
        "a-b #differences"
      ]
    },
    {
      "cell_type": "code",
      "execution_count": null,
      "id": "5f95ab32",
      "metadata": {
        "id": "5f95ab32",
        "outputId": "76e71b36-324f-4056-cb0d-2c694e4d4588"
      },
      "outputs": [
        {
          "data": {
            "text/plain": [
              "{4, 6}"
            ]
          },
          "execution_count": 9,
          "metadata": {},
          "output_type": "execute_result"
        }
      ],
      "source": [
        "b-a"
      ]
    },
    {
      "cell_type": "markdown",
      "id": "200f51a8",
      "metadata": {
        "id": "200f51a8"
      },
      "source": [
        "Problems on operation"
      ]
    },
    {
      "cell_type": "code",
      "execution_count": null,
      "id": "7e36a983",
      "metadata": {
        "id": "7e36a983",
        "outputId": "79250ecc-20fb-40f1-d4f1-1d52833d3b6b"
      },
      "outputs": [
        {
          "name": "stdout",
          "output_type": "stream",
          "text": [
            "{2}\n",
            "{7}\n",
            "{2}\n",
            "{1, 2, 3, 4, 5, 6, 8, 9}\n"
          ]
        }
      ],
      "source": [
        "emp={1,2,3,4,5,6,7,8,9}\n",
        "sing={2,4,6}\n",
        "dance={1,2,5,8,9}\n",
        "sport={1,2,3,5,8}\n",
        "speaker={2,5,3}\n",
        "#list thoese who has taken part in all \n",
        "print(sing&dance&sport&speaker)\n",
        "#one not part of anything\n",
        "print(emp-sing-dance-sport-speaker)\n",
        "# list people who are singer and dancer\n",
        "print(sing&dance)\n",
        "#total people who are participated in evnts\n",
        "print(sing|dance|sport|speaker)\n"
      ]
    },
    {
      "cell_type": "markdown",
      "id": "67ecf4dc",
      "metadata": {
        "id": "67ecf4dc"
      },
      "source": [
        "Supports auto iteration but not indexed accesss"
      ]
    },
    {
      "cell_type": "code",
      "execution_count": null,
      "id": "3546c2bb",
      "metadata": {
        "scrolled": true,
        "id": "3546c2bb",
        "outputId": "2d556dd6-465a-4915-f2f8-e40c93ec3783"
      },
      "outputs": [
        {
          "name": "stdout",
          "output_type": "stream",
          "text": [
            "1\n",
            "2\n",
            "3\n",
            "4\n",
            "5\n",
            "6\n",
            "7\n",
            "8\n",
            "9\n"
          ]
        }
      ],
      "source": [
        "for i in emp:\n",
        "    print(i)"
      ]
    },
    {
      "cell_type": "code",
      "execution_count": null,
      "id": "8d2bfb90",
      "metadata": {
        "id": "8d2bfb90",
        "outputId": "19335650-e9ee-4580-87ed-406a1b671f8c"
      },
      "outputs": [
        {
          "ename": "TypeError",
          "evalue": "'set' object is not subscriptable",
          "output_type": "error",
          "traceback": [
            "\u001b[1;31m---------------------------------------------------------------------------\u001b[0m",
            "\u001b[1;31mTypeError\u001b[0m                                 Traceback (most recent call last)",
            "Cell \u001b[1;32mIn[13], line 2\u001b[0m\n\u001b[0;32m      1\u001b[0m \u001b[38;5;28;01mfor\u001b[39;00m i \u001b[38;5;129;01min\u001b[39;00m \u001b[38;5;28mrange\u001b[39m(\u001b[38;5;241m0\u001b[39m,\u001b[38;5;28mlen\u001b[39m(emp)):\n\u001b[1;32m----> 2\u001b[0m     \u001b[38;5;28mprint\u001b[39m(\u001b[43memp\u001b[49m\u001b[43m[\u001b[49m\u001b[43mi\u001b[49m\u001b[43m]\u001b[49m)\n",
            "\u001b[1;31mTypeError\u001b[0m: 'set' object is not subscriptable"
          ]
        }
      ],
      "source": [
        "for i in range(0,len(emp)):\n",
        "    print(emp[i])"
      ]
    },
    {
      "cell_type": "markdown",
      "id": "af663150",
      "metadata": {
        "id": "af663150"
      },
      "source": [
        "Methods: add(), update(), remove(),discard()"
      ]
    },
    {
      "cell_type": "code",
      "execution_count": null,
      "id": "fba1c5d5",
      "metadata": {
        "id": "fba1c5d5",
        "outputId": "85df141a-0db7-4166-d22d-3b2fcd2cf264"
      },
      "outputs": [
        {
          "ename": "TypeError",
          "evalue": "'list' object is not callable",
          "output_type": "error",
          "traceback": [
            "\u001b[1;31m---------------------------------------------------------------------------\u001b[0m",
            "\u001b[1;31mTypeError\u001b[0m                                 Traceback (most recent call last)",
            "Cell \u001b[1;32mIn[19], line 2\u001b[0m\n\u001b[0;32m      1\u001b[0m dlist\u001b[38;5;241m=\u001b[39m[\u001b[38;5;241m11\u001b[39m,\u001b[38;5;241m22\u001b[39m,\u001b[38;5;241m11\u001b[39m,\u001b[38;5;241m33\u001b[39m,\u001b[38;5;241m44\u001b[39m,\u001b[38;5;241m11\u001b[39m,\u001b[38;5;241m55\u001b[39m,\u001b[38;5;241m11\u001b[39m,\u001b[38;5;241m22\u001b[39m,\u001b[38;5;241m33\u001b[39m,\u001b[38;5;241m44\u001b[39m,\u001b[38;5;241m55\u001b[39m]\n\u001b[1;32m----> 2\u001b[0m dlist\u001b[38;5;241m=\u001b[39m\u001b[38;5;28msorted\u001b[39m((\u001b[38;5;28;43mset\u001b[39;49m\u001b[43m(\u001b[49m\u001b[43mdlist\u001b[49m\u001b[43m)\u001b[49m))\n\u001b[0;32m      3\u001b[0m \u001b[38;5;28mprint\u001b[39m(dlist)\n",
            "\u001b[1;31mTypeError\u001b[0m: 'list' object is not callable"
          ]
        }
      ],
      "source": [
        "dlist=[11,22,11,33,44,11,55,11,22,33,44,55]\n",
        "dlist=sorted((set(dlist)))\n",
        "print(dlist)"
      ]
    },
    {
      "cell_type": "code",
      "execution_count": null,
      "id": "a89cc8c2",
      "metadata": {
        "id": "a89cc8c2",
        "outputId": "5a61b963-ee94-42f4-c1d1-82c7642f250d"
      },
      "outputs": [
        {
          "name": "stdout",
          "output_type": "stream",
          "text": [
            "{33, 66, 22, 55, 11, 44}\n",
            "{66, 22, 55, 11, 44}\n"
          ]
        },
        {
          "ename": "KeyError",
          "evalue": "33",
          "output_type": "error",
          "traceback": [
            "\u001b[1;31m---------------------------------------------------------------------------\u001b[0m",
            "\u001b[1;31mKeyError\u001b[0m                                  Traceback (most recent call last)",
            "Cell \u001b[1;32mIn[20], line 5\u001b[0m\n\u001b[0;32m      3\u001b[0m s\u001b[38;5;241m.\u001b[39mremove(\u001b[38;5;241m33\u001b[39m)\n\u001b[0;32m      4\u001b[0m \u001b[38;5;28mprint\u001b[39m(s)\n\u001b[1;32m----> 5\u001b[0m \u001b[43ms\u001b[49m\u001b[38;5;241;43m.\u001b[39;49m\u001b[43mremove\u001b[49m\u001b[43m(\u001b[49m\u001b[38;5;241;43m33\u001b[39;49m\u001b[43m)\u001b[49m\n\u001b[0;32m      6\u001b[0m \u001b[38;5;28mprint\u001b[39m(s)\n",
            "\u001b[1;31mKeyError\u001b[0m: 33"
          ]
        }
      ],
      "source": [
        "s={11,22,33,44,11,55,66}\n",
        "print(s)\n",
        "s.remove(33)\n",
        "print(s)\n",
        "s.remove(33)\n",
        "print(s)"
      ]
    },
    {
      "cell_type": "code",
      "execution_count": null,
      "id": "2e289a48",
      "metadata": {
        "id": "2e289a48",
        "outputId": "f1027329-244c-4094-93e4-627be6d7af9c"
      },
      "outputs": [
        {
          "name": "stdout",
          "output_type": "stream",
          "text": [
            "{33, 66, 22, 55, 11, 44}\n",
            "{66, 22, 55, 11, 44}\n",
            "{66, 22, 55, 11, 44}\n"
          ]
        }
      ],
      "source": [
        "s={11,22,33,44,11,55,66}\n",
        "print(s)\n",
        "s.discard(33)\n",
        "print(s)\n",
        "s.discard(33)\n",
        "print(s)"
      ]
    },
    {
      "cell_type": "code",
      "execution_count": null,
      "id": "696df5a1",
      "metadata": {
        "id": "696df5a1",
        "outputId": "592519d5-ad7e-4ade-ce72-c6fd3d66e072"
      },
      "outputs": [
        {
          "data": {
            "text/plain": [
              "{11, 22, 44, 55, 66}"
            ]
          },
          "execution_count": 22,
          "metadata": {},
          "output_type": "execute_result"
        }
      ],
      "source": [
        "s"
      ]
    },
    {
      "cell_type": "code",
      "execution_count": null,
      "id": "6c4f9a4f",
      "metadata": {
        "id": "6c4f9a4f",
        "outputId": "8a87df12-01a4-4b5e-c17e-8d2037f233db"
      },
      "outputs": [
        {
          "name": "stdout",
          "output_type": "stream",
          "text": [
            "{'Amar', 'AMAR', 'amar'}\n"
          ]
        }
      ],
      "source": [
        "s={\"amar\",\"amar\",\"Amar\",\"AMAR\"}\n",
        "print(s)"
      ]
    },
    {
      "cell_type": "code",
      "execution_count": 1,
      "id": "38d81d17",
      "metadata": {
        "colab": {
          "base_uri": "https://localhost:8080/"
        },
        "id": "38d81d17",
        "outputId": "74028a69-2c8d-4e02-e30b-1dc101fc270d"
      },
      "outputs": [
        {
          "output_type": "stream",
          "name": "stdout",
          "text": [
            "11 ---> 5\n",
            "22 ---> 2\n",
            "44 ---> 1\n",
            "55 ---> 1\n",
            "66 ---> 1\n",
            "88 ---> 1\n"
          ]
        }
      ],
      "source": [
        "dlist=[11,22,11,44,11,66,22,11,55,88,11]\n",
        "#list each element with its count in order of element\n",
        "#set sort count\n",
        "for i in sorted(set(dlist)):\n",
        "    print(i,\"--->\", dlist.count(i))"
      ]
    },
    {
      "cell_type": "code",
      "execution_count": 2,
      "id": "3e13e1e2",
      "metadata": {
        "colab": {
          "base_uri": "https://localhost:8080/"
        },
        "id": "3e13e1e2",
        "outputId": "827f7d50-8d93-4ec1-d704-19d53bfad03a"
      },
      "outputs": [
        {
          "output_type": "stream",
          "name": "stdout",
          "text": [
            "dlist [11, 22, 11, 44, 11, 66, 22, 11, 55, 88, 11]\n",
            "myset {66, 11, 44, 22, 55, 88}\n",
            "mysortedlist [11, 22, 44, 55, 66, 88]\n",
            "11 ---> 5\n",
            "22 ---> 2\n",
            "44 ---> 1\n",
            "55 ---> 1\n",
            "66 ---> 1\n",
            "88 ---> 1\n"
          ]
        }
      ],
      "source": [
        "#oR\n",
        "dlist=[11,22,11,44,11,66,22,11,55,88,11]\n",
        "#list each element with its count in order of element \n",
        "myset=set(dlist)\n",
        "mysortedlist=sorted(myset)\n",
        "print(\"dlist\",dlist)\n",
        "print(\"myset\",myset)\n",
        "print(\"mysortedlist\",mysortedlist)\n",
        "for i in mysortedlist:\n",
        "    print(i,\"--->\",dlist.count(i))"
      ]
    },
    {
      "cell_type": "code",
      "source": [
        "#merge 2 list in sorted manner\n",
        "d1=[44,11,22,88]\n",
        "d2=[33,10,35,6]\n",
        "dlist=sorted(d1+d2)\n",
        "print(dlist)"
      ],
      "metadata": {
        "colab": {
          "base_uri": "https://localhost:8080/"
        },
        "id": "2n4fSB53U6wl",
        "outputId": "9dd5895f-222b-49e1-e14f-4c0014670a0c"
      },
      "id": "2n4fSB53U6wl",
      "execution_count": 4,
      "outputs": [
        {
          "output_type": "stream",
          "name": "stdout",
          "text": [
            "[6, 10, 11, 22, 33, 35, 44, 88]\n"
          ]
        }
      ]
    },
    {
      "cell_type": "code",
      "source": [
        "#list rotaion\n",
        "'''[11,22,33,44]\n",
        "[22,33,44,11]\n",
        "[33,44,11,22]'''\n",
        "#n number of times\n",
        "list=[11,22,33,44,55,66,77,88]\n",
        "n=int(input(\"No of shifts: \"))\n",
        "for i in range(0,n):\n",
        "  a=list.pop(0)\n",
        "  list.append(a)\n",
        "  print(list)\n",
        "\n",
        "\n",
        "\n"
      ],
      "metadata": {
        "colab": {
          "base_uri": "https://localhost:8080/"
        },
        "id": "AXNkNrSMVFcu",
        "outputId": "235d24a6-af1e-4682-93f3-777935d0f779"
      },
      "id": "AXNkNrSMVFcu",
      "execution_count": 11,
      "outputs": [
        {
          "output_type": "stream",
          "name": "stdout",
          "text": [
            "No of shifts: 5\n",
            "[22, 33, 44, 55, 66, 77, 88, 11]\n",
            "[33, 44, 55, 66, 77, 88, 11, 22]\n",
            "[44, 55, 66, 77, 88, 11, 22, 33]\n",
            "[55, 66, 77, 88, 11, 22, 33, 44]\n",
            "[66, 77, 88, 11, 22, 33, 44, 55]\n"
          ]
        }
      ]
    },
    {
      "cell_type": "code",
      "source": [
        "#list rotaion in reverse order\n",
        "'''[11,22,33,44]\n",
        "[44,11,22,33]\n",
        "[33,44,11,22]'''\n",
        "#n number of times\n",
        "list=[11,22,33,44,55,66,77,88]\n",
        "n=int(input(\"No of shifts: \"))\n",
        "for i in range(0,n):\n",
        "  a=list.pop(-1)\n",
        "  list.insert(0,a)\n",
        "  print(list)\n"
      ],
      "metadata": {
        "colab": {
          "base_uri": "https://localhost:8080/"
        },
        "id": "sX9dXTWaYsmy",
        "outputId": "8784f8eb-a32f-4dca-aa98-f2d9f8cb0568"
      },
      "id": "sX9dXTWaYsmy",
      "execution_count": 15,
      "outputs": [
        {
          "output_type": "stream",
          "name": "stdout",
          "text": [
            "No of shifts: 5\n",
            "[88, 11, 22, 33, 44, 55, 66, 77]\n",
            "[77, 88, 11, 22, 33, 44, 55, 66]\n",
            "[66, 77, 88, 11, 22, 33, 44, 55]\n",
            "[55, 66, 77, 88, 11, 22, 33, 44]\n",
            "[44, 55, 66, 77, 88, 11, 22, 33]\n"
          ]
        }
      ]
    },
    {
      "cell_type": "markdown",
      "source": [
        "Dictionary:{key:value},synamic, follows key order, value can be duplicate-key must be unique to access"
      ],
      "metadata": {
        "id": "98G4i6qAaVOp"
      },
      "id": "98G4i6qAaVOp"
    },
    {
      "cell_type": "code",
      "source": [
        "d={1:\"one\",2:\"two\",3:\"three\",4:\"Four\"}\n",
        "d[3]"
      ],
      "metadata": {
        "colab": {
          "base_uri": "https://localhost:8080/",
          "height": 36
        },
        "id": "v-QWNYGzaa7W",
        "outputId": "51dffee3-83c6-4078-b060-2fac70a27fc5"
      },
      "id": "v-QWNYGzaa7W",
      "execution_count": 16,
      "outputs": [
        {
          "output_type": "execute_result",
          "data": {
            "text/plain": [
              "'three'"
            ],
            "application/vnd.google.colaboratory.intrinsic+json": {
              "type": "string"
            }
          },
          "metadata": {},
          "execution_count": 16
        }
      ]
    },
    {
      "cell_type": "code",
      "source": [
        "for i in d:\n",
        "  print(d[i])"
      ],
      "metadata": {
        "colab": {
          "base_uri": "https://localhost:8080/"
        },
        "id": "tFX2vHRPa2uJ",
        "outputId": "c6299134-60b2-4e03-c32a-cc68f5ead2fa"
      },
      "id": "tFX2vHRPa2uJ",
      "execution_count": 18,
      "outputs": [
        {
          "output_type": "stream",
          "name": "stdout",
          "text": [
            "one\n",
            "two\n",
            "three\n",
            "Four\n"
          ]
        }
      ]
    },
    {
      "cell_type": "code",
      "source": [
        "d[5]=\"five\" #new key and new value : adding\n",
        "d"
      ],
      "metadata": {
        "colab": {
          "base_uri": "https://localhost:8080/"
        },
        "id": "ga4qP8m3bGNZ",
        "outputId": "bf982507-a4ef-4115-a1ba-4f8cf6f37a08"
      },
      "id": "ga4qP8m3bGNZ",
      "execution_count": 20,
      "outputs": [
        {
          "output_type": "execute_result",
          "data": {
            "text/plain": [
              "{1: 'one', 2: 'two', 3: 'three', 4: 'Four', 5: 'five'}"
            ]
          },
          "metadata": {},
          "execution_count": 20
        }
      ]
    },
    {
      "cell_type": "code",
      "source": [
        "d[1.5]=\"one\""
      ],
      "metadata": {
        "id": "kEyK2zexbhbl"
      },
      "id": "kEyK2zexbhbl",
      "execution_count": 22,
      "outputs": []
    },
    {
      "cell_type": "code",
      "source": [
        "d[1]=\"Ek number\" # old key new value then update of old data"
      ],
      "metadata": {
        "id": "AoM47tn_by5V"
      },
      "id": "AoM47tn_by5V",
      "execution_count": 24,
      "outputs": []
    },
    {
      "cell_type": "code",
      "source": [
        "for i in d:\n",
        "  print(\"key\",i,\"value:\",d[i])"
      ],
      "metadata": {
        "colab": {
          "base_uri": "https://localhost:8080/"
        },
        "id": "7hgZbVC6bNzn",
        "outputId": "9f34e545-d900-4b6c-d221-c9777ccd3673"
      },
      "id": "7hgZbVC6bNzn",
      "execution_count": 25,
      "outputs": [
        {
          "output_type": "stream",
          "name": "stdout",
          "text": [
            "key 1 value: Ek number\n",
            "key 2 value: two\n",
            "key 3 value: three\n",
            "key 4 value: Four\n",
            "key 5 value: five\n",
            "key 1.5 value: one\n"
          ]
        }
      ]
    },
    {
      "cell_type": "code",
      "source": [
        "contact={9821601163:[\"amar\",\"codelifecoach\",\"amar.com\"]}"
      ],
      "metadata": {
        "id": "z-W-RitybUdb"
      },
      "id": "z-W-RitybUdb",
      "execution_count": 26,
      "outputs": []
    },
    {
      "cell_type": "code",
      "source": [
        "contact[9821601163]"
      ],
      "metadata": {
        "colab": {
          "base_uri": "https://localhost:8080/"
        },
        "id": "g6T0mqimcHtn",
        "outputId": "de49a175-5436-47a6-dc2f-5254ae06a9fd"
      },
      "id": "g6T0mqimcHtn",
      "execution_count": 27,
      "outputs": [
        {
          "output_type": "execute_result",
          "data": {
            "text/plain": [
              "['amar', 'codelifecoach', 'amar.com']"
            ]
          },
          "metadata": {},
          "execution_count": 27
        }
      ]
    },
    {
      "cell_type": "code",
      "source": [
        "#python is not having switch cases iplement it and print number in words\n",
        "#168- one six eight\n",
        "dict={1: 'one', 2: 'two', 3: 'three', 4: 'Four', 5: 'five',6:\"Six\",7:\"seven\",8:\"eight\",9:\"Nine\"}\n",
        "num=input(\"Enter a number:\")\n",
        "for i in num:\n",
        "  print(dict[int(i)],end=\" \")"
      ],
      "metadata": {
        "colab": {
          "base_uri": "https://localhost:8080/"
        },
        "id": "_ZeBQ7gbcZYo",
        "outputId": "cb2efe83-07f8-4cf6-8c33-64fbc31e49b0"
      },
      "id": "_ZeBQ7gbcZYo",
      "execution_count": 35,
      "outputs": [
        {
          "output_type": "stream",
          "name": "stdout",
          "text": [
            "Enter a number:168\n",
            "one Six eight "
          ]
        }
      ]
    },
    {
      "cell_type": "code",
      "source": [
        "d={1:\"one\",2:\"two\",3:\"three\",4:\"four\",5:\"five\"}\n",
        "print(d.keys())\n",
        "print(d.values())\n",
        "print(d.items()) # it gives list of tuples"
      ],
      "metadata": {
        "id": "9X6BVOx3gFWS",
        "outputId": "2f7733be-74a4-4889-cffd-e964aaf75fad",
        "colab": {
          "base_uri": "https://localhost:8080/"
        }
      },
      "id": "9X6BVOx3gFWS",
      "execution_count": 36,
      "outputs": [
        {
          "output_type": "stream",
          "name": "stdout",
          "text": [
            "dict_keys([1, 2, 3, 4, 5])\n",
            "dict_values(['one', 'two', 'three', 'four', 'five'])\n",
            "dict_items([(1, 'one'), (2, 'two'), (3, 'three'), (4, 'four'), (5, 'five')])\n"
          ]
        }
      ]
    },
    {
      "cell_type": "code",
      "source": [
        "emplist=[[1,\"ram\",12333],[2,\"sham\",17773],[3,\"tam\",18999]]\n",
        "for item in emplist:\n",
        "  item[2]+=(item[2]*10/100)\n",
        "  print(item)\n",
        "  \n",
        "    \n",
        "\n",
        "  "
      ],
      "metadata": {
        "id": "-xWhTzzOgRxb",
        "outputId": "986308e7-9979-4621-a405-1890b36dbb29",
        "colab": {
          "base_uri": "https://localhost:8080/"
        }
      },
      "id": "-xWhTzzOgRxb",
      "execution_count": 49,
      "outputs": [
        {
          "output_type": "stream",
          "name": "stdout",
          "text": [
            "[1, 'ram', 13566.3]\n",
            "[2, 'sham', 19550.3]\n",
            "[3, 'tam', 20898.9]\n"
          ]
        }
      ]
    },
    {
      "cell_type": "code",
      "source": [
        "#OR\n",
        "emplist=[[1,\"ram\",12333],[2,\"sham\",17773],[3,\"tam\",18999]]\n",
        "\n",
        "for record in emplist:\n",
        "    record[2]+=(record[2]*0.1)\n",
        "\n",
        "for record in emplist:\n",
        "    print(record)  "
      ],
      "metadata": {
        "id": "Arrx366yjFtN",
        "outputId": "55a47274-6ec2-4ba0-9251-147653a086f0",
        "colab": {
          "base_uri": "https://localhost:8080/"
        }
      },
      "id": "Arrx366yjFtN",
      "execution_count": 50,
      "outputs": [
        {
          "output_type": "stream",
          "name": "stdout",
          "text": [
            "[1, 'ram', 13566.3]\n",
            "[2, 'sham', 19550.3]\n",
            "[3, 'tam', 20898.9]\n"
          ]
        }
      ]
    },
    {
      "cell_type": "code",
      "source": [
        "l1=[1,2,3,4,5,6]\n",
        "l2=[11,22,33,44,55,66]\n",
        "d=zip(l1,l2)\n",
        "print(type(d))\n",
        "print(dict(d))\n"
      ],
      "metadata": {
        "id": "ya6HrQHZjgSx",
        "outputId": "c5b594c9-2f68-4d47-d8e9-05dad8825405",
        "colab": {
          "base_uri": "https://localhost:8080/",
          "height": 217
        }
      },
      "id": "ya6HrQHZjgSx",
      "execution_count": 63,
      "outputs": [
        {
          "output_type": "stream",
          "name": "stdout",
          "text": [
            "<class 'zip'>\n"
          ]
        },
        {
          "output_type": "error",
          "ename": "TypeError",
          "evalue": "ignored",
          "traceback": [
            "\u001b[0;31m---------------------------------------------------------------------------\u001b[0m",
            "\u001b[0;31mTypeError\u001b[0m                                 Traceback (most recent call last)",
            "\u001b[0;32m<ipython-input-63-aa2ac48feaac>\u001b[0m in \u001b[0;36m<cell line: 5>\u001b[0;34m()\u001b[0m\n\u001b[1;32m      3\u001b[0m \u001b[0md\u001b[0m\u001b[0;34m=\u001b[0m\u001b[0mzip\u001b[0m\u001b[0;34m(\u001b[0m\u001b[0ml1\u001b[0m\u001b[0;34m,\u001b[0m\u001b[0ml2\u001b[0m\u001b[0;34m)\u001b[0m\u001b[0;34m\u001b[0m\u001b[0;34m\u001b[0m\u001b[0m\n\u001b[1;32m      4\u001b[0m \u001b[0mprint\u001b[0m\u001b[0;34m(\u001b[0m\u001b[0mtype\u001b[0m\u001b[0;34m(\u001b[0m\u001b[0md\u001b[0m\u001b[0;34m)\u001b[0m\u001b[0;34m)\u001b[0m\u001b[0;34m\u001b[0m\u001b[0;34m\u001b[0m\u001b[0m\n\u001b[0;32m----> 5\u001b[0;31m \u001b[0mprint\u001b[0m\u001b[0;34m(\u001b[0m\u001b[0mdict\u001b[0m\u001b[0;34m(\u001b[0m\u001b[0md\u001b[0m\u001b[0;34m)\u001b[0m\u001b[0;34m)\u001b[0m\u001b[0;34m\u001b[0m\u001b[0;34m\u001b[0m\u001b[0m\n\u001b[0m",
            "\u001b[0;31mTypeError\u001b[0m: 'dict' object is not callable"
          ]
        }
      ]
    },
    {
      "cell_type": "code",
      "source": [
        "dlist=[11,22,11,44,11,66,22,11,55,88,11]\n",
        "#create dict of each element with its count in order \n",
        "myset=set(dlist)\n",
        "mysortedlist=sorted(myset)\n",
        "print(\"dlist\",dlist)\n",
        "print(\"myset\",myset)\n",
        "print(\"mysortedlist\",mysortedlist)\n",
        "for i in mysortedlist:\n",
        "    print(i,\"--->\",dlist.count(i))"
      ],
      "metadata": {
        "id": "AhNWCQdnklIw",
        "outputId": "89d47a13-fe86-4694-eda7-5285f31953be",
        "colab": {
          "base_uri": "https://localhost:8080/"
        }
      },
      "id": "AhNWCQdnklIw",
      "execution_count": 64,
      "outputs": [
        {
          "output_type": "stream",
          "name": "stdout",
          "text": [
            "dlist [11, 22, 11, 44, 11, 66, 22, 11, 55, 88, 11]\n",
            "myset {66, 11, 44, 22, 55, 88}\n",
            "mysortedlist [11, 22, 44, 55, 66, 88]\n",
            "11 ---> 5\n",
            "22 ---> 2\n",
            "44 ---> 1\n",
            "55 ---> 1\n",
            "66 ---> 1\n",
            "88 ---> 1\n"
          ]
        }
      ]
    },
    {
      "cell_type": "code",
      "source": [
        "dlist=[11,22,11,44,11,66,22,11,55,88,11]\n",
        "#create dict of each element with its count in order \n",
        "myset=set(dlist)\n",
        "mysortedlist=sorted(myset)\n",
        "print(\"dlist\",dlist)\n",
        "print(\"myset\",myset)\n",
        "print(\"mysortedlist\",mysortedlist)\n",
        "countlist=[]\n",
        "for i in mysortedlist:\n",
        "  countlist.append(dlist.count(i))\n",
        "print(\"Countlist\", countlist)\n",
        "print(\"mysortedlist:\",mysortedlist)\n",
        "map=dict(zip(mysortedlist,countlist))\n",
        "print(map)"
      ],
      "metadata": {
        "id": "t7hXI-e3lUTV",
        "outputId": "a66526ba-6d54-40ab-ba0b-f04cd2680988",
        "colab": {
          "base_uri": "https://localhost:8080/",
          "height": 304
        }
      },
      "id": "t7hXI-e3lUTV",
      "execution_count": 67,
      "outputs": [
        {
          "output_type": "stream",
          "name": "stdout",
          "text": [
            "dlist [11, 22, 11, 44, 11, 66, 22, 11, 55, 88, 11]\n",
            "myset {66, 11, 44, 22, 55, 88}\n",
            "mysortedlist [11, 22, 44, 55, 66, 88]\n",
            "Countlist [5, 2, 1, 1, 1, 1]\n",
            "mysortedlist: [11, 22, 44, 55, 66, 88]\n"
          ]
        },
        {
          "output_type": "error",
          "ename": "TypeError",
          "evalue": "ignored",
          "traceback": [
            "\u001b[0;31m---------------------------------------------------------------------------\u001b[0m",
            "\u001b[0;31mTypeError\u001b[0m                                 Traceback (most recent call last)",
            "\u001b[0;32m<ipython-input-67-c11437cdd11e>\u001b[0m in \u001b[0;36m<cell line: 13>\u001b[0;34m()\u001b[0m\n\u001b[1;32m     11\u001b[0m \u001b[0mprint\u001b[0m\u001b[0;34m(\u001b[0m\u001b[0;34m\"Countlist\"\u001b[0m\u001b[0;34m,\u001b[0m \u001b[0mcountlist\u001b[0m\u001b[0;34m)\u001b[0m\u001b[0;34m\u001b[0m\u001b[0;34m\u001b[0m\u001b[0m\n\u001b[1;32m     12\u001b[0m \u001b[0mprint\u001b[0m\u001b[0;34m(\u001b[0m\u001b[0;34m\"mysortedlist:\"\u001b[0m\u001b[0;34m,\u001b[0m\u001b[0mmysortedlist\u001b[0m\u001b[0;34m)\u001b[0m\u001b[0;34m\u001b[0m\u001b[0;34m\u001b[0m\u001b[0m\n\u001b[0;32m---> 13\u001b[0;31m \u001b[0mmap\u001b[0m\u001b[0;34m=\u001b[0m\u001b[0mdict\u001b[0m\u001b[0;34m(\u001b[0m\u001b[0mzip\u001b[0m\u001b[0;34m(\u001b[0m\u001b[0mmysortedlist\u001b[0m\u001b[0;34m,\u001b[0m\u001b[0mcountlist\u001b[0m\u001b[0;34m)\u001b[0m\u001b[0;34m)\u001b[0m\u001b[0;34m\u001b[0m\u001b[0;34m\u001b[0m\u001b[0m\n\u001b[0m\u001b[1;32m     14\u001b[0m \u001b[0mprint\u001b[0m\u001b[0;34m(\u001b[0m\u001b[0mmap\u001b[0m\u001b[0;34m)\u001b[0m\u001b[0;34m\u001b[0m\u001b[0;34m\u001b[0m\u001b[0m\n",
            "\u001b[0;31mTypeError\u001b[0m: 'dict' object is not callable"
          ]
        }
      ]
    }
  ],
  "metadata": {
    "kernelspec": {
      "display_name": "Python 3 (ipykernel)",
      "language": "python",
      "name": "python3"
    },
    "language_info": {
      "codemirror_mode": {
        "name": "ipython",
        "version": 3
      },
      "file_extension": ".py",
      "mimetype": "text/x-python",
      "name": "python",
      "nbconvert_exporter": "python",
      "pygments_lexer": "ipython3",
      "version": "3.10.11"
    },
    "colab": {
      "provenance": []
    }
  },
  "nbformat": 4,
  "nbformat_minor": 5
}