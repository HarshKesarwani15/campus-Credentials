{
 "cells": [
  {
   "cell_type": "code",
   "execution_count": null,
   "id": "654480fd",
   "metadata": {
    "id": "654480fd",
    "outputId": "d127dc76-441b-4a6d-b509-172608140527"
   },
   "outputs": [
    {
     "name": "stdout",
     "output_type": "stream",
     "text": [
      "Hello World\n"
     ]
    }
   ],
   "source": [
    "print(\"Hello World\")"
   ]
  },
  {
   "cell_type": "markdown",
   "id": "adf07749",
   "metadata": {
    "id": "adf07749"
   },
   "source": [
    "# dynamic casting"
   ]
  },
  {
   "cell_type": "code",
   "execution_count": null,
   "id": "cc538061",
   "metadata": {
    "id": "cc538061",
    "outputId": "b7474dc1-947d-4d82-d151-86c8fd26e6c1"
   },
   "outputs": [
    {
     "data": {
      "text/plain": [
       "int"
      ]
     },
     "execution_count": 18,
     "metadata": {},
     "output_type": "execute_result"
    }
   ],
   "source": [
    "#dynamic casting\n",
    "a=10\n",
    "type(a)"
   ]
  },
  {
   "cell_type": "code",
   "execution_count": null,
   "id": "0cafc757",
   "metadata": {
    "id": "0cafc757",
    "outputId": "275a97b9-d45e-4b5f-8b10-c4fd22c3ac43"
   },
   "outputs": [
    {
     "name": "stdout",
     "output_type": "stream",
     "text": [
      " Enter your name:Harsh\n"
     ]
    },
    {
     "data": {
      "text/plain": [
       "'Harsh'"
      ]
     },
     "execution_count": 23,
     "metadata": {},
     "output_type": "execute_result"
    }
   ],
   "source": [
    "#input function will always give string datatype to use another type u have to use dynamic casting\n",
    "name=input(\" Enter your name:\")\n",
    "name\n"
   ]
  },
  {
   "cell_type": "code",
   "execution_count": null,
   "id": "fcdcdca1",
   "metadata": {
    "id": "fcdcdca1",
    "outputId": "3a7943f6-7a1f-4b29-8ad5-79b321cd51e3"
   },
   "outputs": [
    {
     "data": {
      "text/plain": [
       "str"
      ]
     },
     "execution_count": 22,
     "metadata": {},
     "output_type": "execute_result"
    }
   ],
   "source": [
    "name\n",
    "type(name)"
   ]
  },
  {
   "cell_type": "code",
   "execution_count": null,
   "id": "aed4cba9",
   "metadata": {
    "id": "aed4cba9",
    "outputId": "9fb1a7c0-36a1-4c0a-9a46-142a226cbaec"
   },
   "outputs": [
    {
     "name": "stdout",
     "output_type": "stream",
     "text": [
      "Enter any number:554\n"
     ]
    },
    {
     "data": {
      "text/plain": [
       "int"
      ]
     },
     "execution_count": 19,
     "metadata": {},
     "output_type": "execute_result"
    }
   ],
   "source": [
    "data=int(input(\"Enter any number:\"))\n",
    "type(data)"
   ]
  },
  {
   "cell_type": "markdown",
   "id": "9c61a0e7",
   "metadata": {
    "id": "9c61a0e7"
   },
   "source": [
    "# Basics"
   ]
  },
  {
   "cell_type": "code",
   "execution_count": null,
   "id": "e21e46e2",
   "metadata": {
    "id": "e21e46e2",
    "outputId": "5981f054-8ca1-4724-d7cf-b25b726ef1cb"
   },
   "outputs": [
    {
     "name": "stdout",
     "output_type": "stream",
     "text": [
      "10\n"
     ]
    }
   ],
   "source": [
    "a=10\n",
    "print(a)"
   ]
  },
  {
   "cell_type": "code",
   "execution_count": null,
   "id": "a40a4d7d",
   "metadata": {
    "id": "a40a4d7d",
    "outputId": "14bb7154-feb1-4452-bd0b-727d51d6de79"
   },
   "outputs": [
    {
     "name": "stdout",
     "output_type": "stream",
     "text": [
      "The value of a is 10\n"
     ]
    }
   ],
   "source": [
    "print(\"The value of a is\",a)"
   ]
  },
  {
   "cell_type": "code",
   "execution_count": null,
   "id": "bc4e1aa5",
   "metadata": {
    "id": "bc4e1aa5",
    "outputId": "f267d511-8770-4011-c9ad-77dcf48c4124"
   },
   "outputs": [
    {
     "name": "stdout",
     "output_type": "stream",
     "text": [
      "a is 10 and 20 is b\n",
      "10 is a and 20 is b\n",
      "10 , 20 are a and b\n",
      "10 is a and b is 20\n"
     ]
    }
   ],
   "source": [
    "a=10\n",
    "b=20\n",
    "print(\"a is\",a,\"and\",b ,\"is b\")\n",
    "print(a,\"is a and\",b,\"is b\")\n",
    "print(a,\",\",b ,\"are a and b\")\n",
    "print(a,\"is a and b is\",b)"
   ]
  },
  {
   "cell_type": "markdown",
   "id": "d7b0959b",
   "metadata": {
    "id": "d7b0959b"
   },
   "source": [
    "# print contains two things sep and end"
   ]
  },
  {
   "cell_type": "code",
   "execution_count": null,
   "id": "1a073203",
   "metadata": {
    "id": "1a073203",
    "outputId": "75416098-eb87-40b8-9d7b-1e80378a31ce"
   },
   "outputs": [
    {
     "name": "stdout",
     "output_type": "stream",
     "text": [
      "a is10and20is b\n",
      "10 is a and 20 is b.10Harsh,Harsh20Harshare a and b\n",
      "10 is a and b is 20\n"
     ]
    }
   ],
   "source": [
    "#print contains sep=\" \" and end=\"\\n\" u can change \n",
    "a=10\n",
    "b=20\n",
    "print(\"a is\",a,\"and\",b ,\"is b\" ,sep=\"\")\n",
    "print(a,\"is a and\",b,\"is b\",end=\".\")\n",
    "print(a,\",\",b ,\"are a and b\", sep=\"Harsh\")\n",
    "print(a,\"is a and b is\",b)"
   ]
  },
  {
   "cell_type": "markdown",
   "id": "5c27ae4a",
   "metadata": {
    "id": "5c27ae4a"
   },
   "source": [
    "# Swapping"
   ]
  },
  {
   "cell_type": "code",
   "execution_count": null,
   "id": "d77b93b6",
   "metadata": {
    "id": "d77b93b6",
    "outputId": "cd23f01a-94c6-48ac-99b0-bd38b7eafe72"
   },
   "outputs": [
    {
     "name": "stdout",
     "output_type": "stream",
     "text": [
      "a= 10 b= 20\n",
      "a= 20 b= 10\n"
     ]
    }
   ],
   "source": [
    "a,b=10,20\n",
    "print(\"a=\",a,\"b=\",b)\n",
    "a,b=b,a\n",
    "print(\"a=\",a,\"b=\",b)"
   ]
  },
  {
   "cell_type": "markdown",
   "id": "7a90c087",
   "metadata": {
    "id": "7a90c087"
   },
   "source": [
    "# python stores the similar data iin same memory and get change automatically when they differ if it is not used it goes to auto garbage collection"
   ]
  },
  {
   "cell_type": "code",
   "execution_count": null,
   "id": "2b8ebe78",
   "metadata": {
    "id": "2b8ebe78",
    "outputId": "b937e560-1634-4997-ab21-0be1867fe3cd"
   },
   "outputs": [
    {
     "name": "stdout",
     "output_type": "stream",
     "text": [
      "1972083687952 1972083687952 1972083687952\n",
      "1972083688080 1972083687952 1972083687952\n"
     ]
    }
   ],
   "source": [
    "a=10\n",
    "b=7+3\n",
    "c=14-4\n",
    "print(id(a),id(b),id(c))\n",
    "a=a+4\n",
    "print(id(a),id(b),id(c))"
   ]
  },
  {
   "cell_type": "markdown",
   "id": "5d344c2f",
   "metadata": {
    "id": "5d344c2f"
   },
   "source": [
    "# Operators: python doesnot support increment and decrement operator in this case u can use assignment oprtr/shortand oprtr. a++ is not a+=1"
   ]
  },
  {
   "cell_type": "markdown",
   "id": "bd1fc93b",
   "metadata": {
    "id": "bd1fc93b"
   },
   "source": [
    "Modulus operator: 13%3=1 and 13%30=13\n",
    "Exponent oprt **\n",
    "Int basd floor oprtr Eg. 5/2=2.5 and 5//2=2\n",
    "and oprt Eg 1and 1=1\n",
    "exor optr Eg. 0 exor 0 is 0 and 1 exor 1=0\n",
    "Binary twos complement --> step1. Do reverse of sign Step2: add -1 --> Eg. ~127= -127-1=-128\n",
    "Left shift--> variable*2^n  Eg. 10 shift by 3--> 10*2^3=80\n",
    "Right shift--> variable/2^n  Eg. 20 shift by 1--> 20/2^1=10"
   ]
  },
  {
   "cell_type": "markdown",
   "id": "PdzB75-9JWy-",
   "metadata": {
    "id": "PdzB75-9JWy-"
   },
   "source": [
    "while is faster than loop<br>\n",
    "loop supports auto iteration and while loop can have floating pointer steps"
   ]
  },
  {
   "cell_type": "markdown",
   "id": "23fa5b2f",
   "metadata": {
    "id": "23fa5b2f"
   },
   "source": [
    "# For loops: counter+1, countdown-1 at end step"
   ]
  },
  {
   "cell_type": "code",
   "execution_count": null,
   "id": "f6b41fd6",
   "metadata": {
    "id": "f6b41fd6",
    "outputId": "3b6ee0ec-f316-4d9a-daab-0ee2982bd624"
   },
   "outputs": [
    {
     "name": "stdout",
     "output_type": "stream",
     "text": [
      "1\n",
      "2\n",
      "3\n",
      "4\n",
      "5\n",
      "6\n"
     ]
    }
   ],
   "source": [
    "#print 1 to 6 using for loop\n",
    "for i in range(1,7,1):\n",
    "  print(i)"
   ]
  },
  {
   "cell_type": "code",
   "execution_count": null,
   "id": "8c2d2271",
   "metadata": {
    "id": "8c2d2271",
    "outputId": "353ea7dc-be91-44d2-874f-b70ae00beb0e"
   },
   "outputs": [
    {
     "name": "stdout",
     "output_type": "stream",
     "text": [
      "1\n",
      "2\n",
      "3\n",
      "4\n",
      "5\n",
      "6\n"
     ]
    }
   ],
   "source": [
    "#using while loop\n",
    "i=1\n",
    "while i<=6:\n",
    "  print(i)\n",
    "  i+=1\n",
    "  "
   ]
  },
  {
   "cell_type": "code",
   "execution_count": null,
   "id": "46b130c4",
   "metadata": {
    "id": "46b130c4",
    "outputId": "398bdfe6-3308-429c-d7d4-f831aa14b62c"
   },
   "outputs": [
    {
     "name": "stdout",
     "output_type": "stream",
     "text": [
      "10\n",
      "20\n",
      "30\n",
      "40\n",
      "50\n",
      "60\n",
      "70\n",
      "80\n",
      "90\n",
      "100\n"
     ]
    }
   ],
   "source": [
    "#10, 20, 30,40,   100 using while loop\n",
    "i=10\n",
    "while i<=100:\n",
    "  print(i)\n",
    "  i+=10"
   ]
  },
  {
   "cell_type": "code",
   "execution_count": null,
   "id": "c99a80cf",
   "metadata": {
    "id": "c99a80cf",
    "outputId": "240e97a7-47d4-4117-fccd-bbd1e13d118e"
   },
   "outputs": [
    {
     "name": "stdout",
     "output_type": "stream",
     "text": [
      "Enter n:5\n",
      "1\n",
      "2\n",
      "3\n",
      "4\n",
      "5\n"
     ]
    }
   ],
   "source": [
    "# print 1 to n where n entered by user\n",
    "n=int(input(\"Enter n:\"))\n",
    "i=1\n",
    "while i<=n:\n",
    "  print(i);\n",
    "  i+=1"
   ]
  },
  {
   "cell_type": "markdown",
   "id": "sZO8e8hSI2Nb",
   "metadata": {
    "id": "sZO8e8hSI2Nb"
   },
   "source": [
    "Using while loop"
   ]
  },
  {
   "cell_type": "code",
   "execution_count": null,
   "id": "84c963c1",
   "metadata": {
    "id": "84c963c1"
   },
   "outputs": [],
   "source": [
    "#code 10,9,8...1\n",
    "#code 1,2,3... to n where n enteredby user\n",
    "#code start to end from user ex. start 3 end:6 3 4 5 6\n",
    "                               #start 2 end -1 2 1 0 -1\n"
   ]
  },
  {
   "cell_type": "code",
   "execution_count": 1,
   "id": "8aa25184",
   "metadata": {
    "colab": {
     "base_uri": "https://localhost:8080/"
    },
    "id": "8aa25184",
    "outputId": "ec5e3df1-dfcd-46cb-99a7-15b518183fae"
   },
   "outputs": [
    {
     "name": "stdout",
     "output_type": "stream",
     "text": [
      "10\n",
      "9\n",
      "8\n",
      "7\n",
      "6\n",
      "5\n",
      "4\n",
      "3\n",
      "2\n",
      "1\n"
     ]
    }
   ],
   "source": [
    "i=10\n",
    "while i>=1:\n",
    "    print(i)\n",
    "    i-=1"
   ]
  },
  {
   "cell_type": "code",
   "execution_count": 2,
   "id": "feaa8f00",
   "metadata": {
    "colab": {
     "base_uri": "https://localhost:8080/"
    },
    "id": "feaa8f00",
    "outputId": "ea549e8d-0478-46d9-9962-cf1e1d5da5a2"
   },
   "outputs": [
    {
     "name": "stdout",
     "output_type": "stream",
     "text": [
      "Enter n:5\n",
      "5\n",
      "4\n",
      "3\n",
      "2\n",
      "1\n"
     ]
    }
   ],
   "source": [
    "# print n to 1 where n entered by user\n",
    "n=int(input(\"Enter n:\"))\n",
    "i=n\n",
    "while i>=1:\n",
    "  print(i);\n",
    "  i-=1"
   ]
  },
  {
   "cell_type": "code",
   "execution_count": 3,
   "id": "_jMWLlmfF5Pt",
   "metadata": {
    "colab": {
     "base_uri": "https://localhost:8080/"
    },
    "id": "_jMWLlmfF5Pt",
    "outputId": "5dab4789-0932-40ee-b3c7-0648d5c28f9c"
   },
   "outputs": [
    {
     "name": "stdout",
     "output_type": "stream",
     "text": [
      "Enter start:3\n",
      "Enter end:6\n",
      "3\n",
      "4\n",
      "5\n",
      "6\n"
     ]
    }
   ],
   "source": [
    "#accept start and end print series between them\n",
    "#start:4 end:8   4,5,6,7,8\n",
    "#start:3 end:-1  3,2,1,0,-1\n",
    "#start<end then i from start to end  +1\n",
    "#otherwise i from start to end -1\n",
    "\n",
    "start=int(input(\"Enter start:\"))\n",
    "end=int(input(\"Enter end:\"))\n",
    "if start<end:\n",
    "  while start<=end:\n",
    "    print(start)\n",
    "    start+=1\n",
    "else:\n",
    "  while start>=end:\n",
    "    print(start)\n",
    "    Start-=1\n",
    "\n"
   ]
  },
  {
   "cell_type": "markdown",
   "id": "pbSZD6xCIzpq",
   "metadata": {
    "id": "pbSZD6xCIzpq"
   },
   "source": [
    "Using for loop"
   ]
  },
  {
   "cell_type": "code",
   "execution_count": 6,
   "id": "fZk-Fjj4Ggal",
   "metadata": {
    "colab": {
     "base_uri": "https://localhost:8080/"
    },
    "id": "fZk-Fjj4Ggal",
    "outputId": "1fd28581-debb-4b5c-f6cd-7559b820625b"
   },
   "outputs": [
    {
     "name": "stdout",
     "output_type": "stream",
     "text": [
      "10\n",
      "9\n",
      "8\n",
      "7\n",
      "6\n",
      "5\n",
      "4\n",
      "3\n",
      "2\n",
      "1\n"
     ]
    }
   ],
   "source": [
    "#Using for loop\n",
    "#code 10,9,8...1\n",
    "for i in range(10,0,-1):\n",
    "  print(i)"
   ]
  },
  {
   "cell_type": "code",
   "execution_count": 7,
   "id": "NtybxOWTGzar",
   "metadata": {
    "colab": {
     "base_uri": "https://localhost:8080/"
    },
    "id": "NtybxOWTGzar",
    "outputId": "9a5d5a94-835c-44f5-c843-b0299d83439a"
   },
   "outputs": [
    {
     "name": "stdout",
     "output_type": "stream",
     "text": [
      "Enter n:8\n",
      "1\n",
      "2\n",
      "3\n",
      "4\n",
      "5\n",
      "6\n",
      "7\n",
      "8\n"
     ]
    }
   ],
   "source": [
    "#c using for loop code 1,2,3... to n where n enteredby user\n",
    "n=int(input(\"Enter n:\"))\n",
    "for i in range (1,n+1,+1):\n",
    "  print(i)"
   ]
  },
  {
   "cell_type": "code",
   "execution_count": 12,
   "id": "WfwBlqOlHGE4",
   "metadata": {
    "colab": {
     "base_uri": "https://localhost:8080/"
    },
    "id": "WfwBlqOlHGE4",
    "outputId": "a6032da3-bb38-4f0a-84cd-969c6f92875f"
   },
   "outputs": [
    {
     "name": "stdout",
     "output_type": "stream",
     "text": [
      "Enter start:3\n",
      "Enter end:-1\n",
      "3\n",
      "2\n",
      "1\n",
      "0\n",
      "-1\n"
     ]
    }
   ],
   "source": [
    "#accept start and end print series between them\n",
    "#start:4 end:8   4,5,6,7,8\n",
    "#start:3 end:-1  3,2,1,0,-1\n",
    "#start<end then i from start to end  +1\n",
    "#otherwise i from start to end -1\n",
    "\n",
    "start=int(input(\"Enter start:\"))\n",
    "end=int(input(\"Enter end:\"))\n",
    "if start<end:\n",
    "  for i in range(start,end+1,+1):\n",
    "    print(i)\n",
    "else:\n",
    "  for i in range(start,end-1,-1):\n",
    "    print(i)"
   ]
  },
  {
   "cell_type": "markdown",
   "id": "RMyemzMZJoen",
   "metadata": {
    "id": "RMyemzMZJoen"
   },
   "source": [
    "Continue: will skip that steps\n",
    "break: Break the loop and stops"
   ]
  },
  {
   "cell_type": "code",
   "execution_count": 13,
   "id": "YjIXJOUuHpbQ",
   "metadata": {
    "colab": {
     "base_uri": "https://localhost:8080/"
    },
    "id": "YjIXJOUuHpbQ",
    "outputId": "4148cd02-e79b-4459-9199-52de9ca83c21"
   },
   "outputs": [
    {
     "name": "stdout",
     "output_type": "stream",
     "text": [
      "0\n",
      "1\n",
      "2\n",
      "4\n",
      "5\n"
     ]
    }
   ],
   "source": [
    "for i in range(0,6,1):\n",
    "  if i==3:\n",
    "    continue;\n",
    "  print(i)"
   ]
  },
  {
   "cell_type": "code",
   "execution_count": 14,
   "id": "NKT8UfhtKc5B",
   "metadata": {
    "colab": {
     "base_uri": "https://localhost:8080/"
    },
    "id": "NKT8UfhtKc5B",
    "outputId": "af26d3bf-398b-40ce-e5ec-5aac7f68f3b6"
   },
   "outputs": [
    {
     "name": "stdout",
     "output_type": "stream",
     "text": [
      "0\n",
      "1\n",
      "2\n"
     ]
    }
   ],
   "source": [
    "for i in range(0,6,1):\n",
    "  if i==3:\n",
    "    break;\n",
    "  print(i)"
   ]
  },
  {
   "cell_type": "code",
   "execution_count": 17,
   "id": "73pSbe8QKgrL",
   "metadata": {
    "colab": {
     "base_uri": "https://localhost:8080/"
    },
    "id": "73pSbe8QKgrL",
    "outputId": "45d7cfaf-c002-4806-dc8b-f948a5e3200f"
   },
   "outputs": [
    {
     "name": "stdout",
     "output_type": "stream",
     "text": [
      "enter a number:5\n",
      "enter a number:7\n"
     ]
    }
   ],
   "source": [
    "while True:\n",
    "  no=int(input(\"enter a number:\"))\n",
    "  if no==7:\n",
    "    break"
   ]
  },
  {
   "cell_type": "code",
   "execution_count": 1,
   "id": "600c8c74",
   "metadata": {},
   "outputs": [
    {
     "name": "stdout",
     "output_type": "stream",
     "text": [
      "hello world\n"
     ]
    }
   ],
   "source": [
    "print(\"hello world\")"
   ]
  }
 ],
 "metadata": {
  "colab": {
   "provenance": []
  },
  "kernelspec": {
   "display_name": "Python 3 (ipykernel)",
   "language": "python",
   "name": "python3"
  },
  "language_info": {
   "codemirror_mode": {
    "name": "ipython",
    "version": 3
   },
   "file_extension": ".py",
   "mimetype": "text/x-python",
   "name": "python",
   "nbconvert_exporter": "python",
   "pygments_lexer": "ipython3",
   "version": "3.10.11"
  }
 },
 "nbformat": 4,
 "nbformat_minor": 5
}
