{
 "cells": [
  {
   "cell_type": "markdown",
   "id": "af52f223",
   "metadata": {},
   "source": [
    "# function"
   ]
  },
  {
   "cell_type": "code",
   "execution_count": null,
   "id": "d0930f14",
   "metadata": {},
   "outputs": [],
   "source": [
    "#Use of function: Write once and use multiple times (reuse)\n",
    "# modular coding- faser development"
   ]
  },
  {
   "cell_type": "code",
   "execution_count": 3,
   "id": "b9a8ac40",
   "metadata": {},
   "outputs": [
    {
     "name": "stdout",
     "output_type": "stream",
     "text": [
      "Hello\n",
      "Good Morning\n",
      " Ok Bye\n"
     ]
    }
   ],
   "source": [
    "def mufunction1():\n",
    "    print(\"Hello\")\n",
    "    print(\"Good Morning\")\n",
    "    print(\" Ok Bye\")\n",
    "mufunction1()"
   ]
  },
  {
   "cell_type": "code",
   "execution_count": 6,
   "id": "ee841930",
   "metadata": {},
   "outputs": [
    {
     "name": "stdout",
     "output_type": "stream",
     "text": [
      "this is script\n",
      " about to call\n",
      "Hello\n",
      "Good Morning\n",
      " Ok Bye\n",
      "end of script\n"
     ]
    }
   ],
   "source": [
    "print(\"this is script\")\n",
    "print(\" about to call\")\n",
    "mufunction1()\n",
    "print(\"end of script\")"
   ]
  },
  {
   "cell_type": "code",
   "execution_count": 13,
   "id": "1ee88284",
   "metadata": {},
   "outputs": [
    {
     "name": "stdout",
     "output_type": "stream",
     "text": [
      "10 + 20 = 30\n",
      "<class 'int'>\n",
      "<class 'int'>\n"
     ]
    }
   ],
   "source": [
    "#without return with parameter\n",
    "def add(p1,p2): # fi=unction overload with respect to parameter\n",
    "    print(p1,\"+\",p2,\"=\",p1+p2)\n",
    "    print(type(p1))\n",
    "    print(type(p2))\n",
    "add(10,20)"
   ]
  },
  {
   "cell_type": "code",
   "execution_count": 14,
   "id": "06dfce56",
   "metadata": {},
   "outputs": [
    {
     "name": "stdout",
     "output_type": "stream",
     "text": [
      "15.3 + 25.3 = 40.6\n",
      "<class 'float'>\n",
      "<class 'float'>\n"
     ]
    }
   ],
   "source": [
    "add(15.3,25.3)"
   ]
  },
  {
   "cell_type": "code",
   "execution_count": 15,
   "id": "b8bc912b",
   "metadata": {},
   "outputs": [
    {
     "name": "stdout",
     "output_type": "stream",
     "text": [
      "am + ar = amar\n",
      "<class 'str'>\n",
      "<class 'str'>\n"
     ]
    }
   ],
   "source": [
    "add(\"am\",\"ar\")"
   ]
  },
  {
   "cell_type": "code",
   "execution_count": 16,
   "id": "38248de9",
   "metadata": {},
   "outputs": [],
   "source": [
    "#with return with parameter\n",
    "#return can return values/values from function to script\n",
    "def minimum(n1,n2):\n",
    "    if n1<n2:\n",
    "        return n1\n",
    "    else:\n",
    "        return n2\n",
    "#can be nested\n"
   ]
  },
  {
   "cell_type": "code",
   "execution_count": 17,
   "id": "057e6a47",
   "metadata": {},
   "outputs": [
    {
     "data": {
      "text/plain": [
       "3"
      ]
     },
     "execution_count": 17,
     "metadata": {},
     "output_type": "execute_result"
    }
   ],
   "source": [
    "minimum(11,3)"
   ]
  },
  {
   "cell_type": "code",
   "execution_count": 18,
   "id": "6afdc887",
   "metadata": {},
   "outputs": [
    {
     "data": {
      "text/plain": [
       "11"
      ]
     },
     "execution_count": 18,
     "metadata": {},
     "output_type": "execute_result"
    }
   ],
   "source": [
    "minimum(11,30)"
   ]
  },
  {
   "cell_type": "code",
   "execution_count": 20,
   "id": "e54bac6c",
   "metadata": {},
   "outputs": [
    {
     "data": {
      "text/plain": [
       "4"
      ]
     },
     "execution_count": 20,
     "metadata": {},
     "output_type": "execute_result"
    }
   ],
   "source": [
    "#can be nested\n",
    "#calculate minimum of 4 number\n",
    "minimum(minimum(11,4),minimum(42,7))"
   ]
  },
  {
   "cell_type": "code",
   "execution_count": 21,
   "id": "da10b322",
   "metadata": {},
   "outputs": [],
   "source": [
    "#return in ascending order\n",
    "def ascending(n1,n2):\n",
    "    if n1<n2:\n",
    "        return n1,n2\n",
    "    # multiples values are returned it uses tuple\n",
    "    else:\n",
    "        return n2,n1"
   ]
  },
  {
   "cell_type": "code",
   "execution_count": 23,
   "id": "37599aa4",
   "metadata": {},
   "outputs": [
    {
     "name": "stdout",
     "output_type": "stream",
     "text": [
      "(8, 11)\n"
     ]
    },
    {
     "data": {
      "text/plain": [
       "tuple"
      ]
     },
     "execution_count": 23,
     "metadata": {},
     "output_type": "execute_result"
    }
   ],
   "source": [
    "ans=ascending(11,8)\n",
    "print(ans)\n",
    "type(ans)"
   ]
  },
  {
   "cell_type": "code",
   "execution_count": 29,
   "id": "bea2e6c3",
   "metadata": {},
   "outputs": [],
   "source": [
    "#document string: help user to understand function\n",
    "#optional\n",
    "#written using def using string mostly by '''  '''\n",
    "def intro(name):\n",
    "    '''takes name and print welcome message'''\n",
    "    print(\"welcome,\",name,\"to python coding\")"
   ]
  },
  {
   "cell_type": "code",
   "execution_count": 30,
   "id": "9cc1569f",
   "metadata": {},
   "outputs": [
    {
     "name": "stdout",
     "output_type": "stream",
     "text": [
      "welcome, harsh to python coding\n"
     ]
    }
   ],
   "source": [
    "intro(\"harsh\")"
   ]
  },
  {
   "cell_type": "code",
   "execution_count": 53,
   "id": "127c9694",
   "metadata": {},
   "outputs": [],
   "source": [
    "#in python data is passed by value(changes locally) and data structure is passed by ref (changes permanent)\n",
    "\n",
    "#pass by value\n",
    "def doubler(no):\n",
    "    print(\"in function  before change no:\", no)\n",
    "    no=no*2\n",
    "    print(\"in function after change no:\",no)\n",
    "    \n",
    "#pass by ref\n",
    "def doubler2(no2):\n",
    "    print(\"in function  before change no:\", no2)\n",
    "    no2[0]=no2[0]*2 #list is a datastructure\n",
    "    print(\"in function after change no:\",no2)\n",
    "\n"
   ]
  },
  {
   "cell_type": "code",
   "execution_count": 54,
   "id": "69c9e8b3",
   "metadata": {},
   "outputs": [
    {
     "name": "stdout",
     "output_type": "stream",
     "text": [
      "Pass by value\n",
      "in script  before change no: 10\n",
      "in function  before change no: 10\n",
      "in function after change no: 20\n",
      "in script  after change no: 10\n",
      "Pass by ref\n",
      "in script  before change no: [10]\n",
      "in function  before change no: [10]\n",
      "in function after change no: [20]\n",
      "in script  after change no: [20]\n"
     ]
    }
   ],
   "source": [
    "print(\"Pass by value\")\n",
    "no=10\n",
    "print(\"in script  before change no:\", no)\n",
    "doubler(no)\n",
    "print(\"in script  after change no:\", no)\n",
    "\n",
    "print(\"Pass by ref\")\n",
    "no2=[10] #list is a data structure\n",
    "print(\"in script  before change no:\", no2)\n",
    "doubler2(no2)\n",
    "print(\"in script  after change no:\", no2)\n"
   ]
  },
  {
   "cell_type": "markdown",
   "id": "118f2a96",
   "metadata": {},
   "source": [
    "# Recursion: function calling itself\n",
    "Make code slower, more memory<br>\n",
    "makes code look smaller hence readable<br>\n",
    "complex to understand\n",
    "90% cases is loop required to remove recursion\n"
   ]
  },
  {
   "cell_type": "code",
   "execution_count": 55,
   "id": "175df7ef",
   "metadata": {},
   "outputs": [],
   "source": [
    "def fact(n):\n",
    "    if n==1:\n",
    "        return 1\n",
    "    else:\n",
    "        return n*fact(n-1)"
   ]
  },
  {
   "cell_type": "code",
   "execution_count": 56,
   "id": "29fda7b7",
   "metadata": {},
   "outputs": [
    {
     "data": {
      "text/plain": [
       "24"
      ]
     },
     "execution_count": 56,
     "metadata": {},
     "output_type": "execute_result"
    }
   ],
   "source": [
    "fact(4)"
   ]
  },
  {
   "cell_type": "code",
   "execution_count": 60,
   "id": "a2bc4857",
   "metadata": {},
   "outputs": [
    {
     "data": {
      "text/plain": [
       "93326215443944152681699238856266700490715968264381621468592963895217599993229915608941463976156518286253697920827223758251185210916864000000000000000000000000"
      ]
     },
     "execution_count": 60,
     "metadata": {},
     "output_type": "execute_result"
    }
   ],
   "source": [
    "fact(100)"
   ]
  },
  {
   "cell_type": "code",
   "execution_count": 69,
   "id": "7bd134a8",
   "metadata": {},
   "outputs": [
    {
     "data": {
      "text/plain": [
       "6"
      ]
     },
     "execution_count": 69,
     "metadata": {},
     "output_type": "execute_result"
    }
   ],
   "source": [
    "#calculate gcd using recursion\n",
    "'''\n",
    "algorithm\n",
    "1. no1>no2\n",
    "2. if n01% no2=0 then gcd is no2 else let no1=no2, no2=no1%no2\n",
    "'''\n",
    "def gcd(no1,no2):\n",
    "    if no1>no2:\n",
    "        if no1%no2==0:\n",
    "            return no2\n",
    "        else:\n",
    "            return gcd(no2,no1%no2)\n",
    "gcd(18,12)"
   ]
  },
  {
   "cell_type": "code",
   "execution_count": 78,
   "id": "2169de62",
   "metadata": {},
   "outputs": [],
   "source": [
    "#calculate gcd without recursion\n",
    "def GCD(n1,n2):\n",
    "    while n1%n2!=0:\n",
    "        n1,n2=n2,n1%n2\n",
    "    print(\"GCD is: \",n2)"
   ]
  },
  {
   "cell_type": "code",
   "execution_count": 79,
   "id": "6e749cdf",
   "metadata": {},
   "outputs": [
    {
     "name": "stdout",
     "output_type": "stream",
     "text": [
      "GCD is:  6\n"
     ]
    }
   ],
   "source": [
    "GCD(18,12)"
   ]
  },
  {
   "cell_type": "code",
   "execution_count": 2,
   "id": "8bd07ac3",
   "metadata": {
    "scrolled": false
   },
   "outputs": [
    {
     "name": "stdout",
     "output_type": "stream",
     "text": [
      "hello\n"
     ]
    }
   ],
   "source": [
    "print(\"hello\")"
   ]
  },
  {
   "cell_type": "markdown",
   "id": "af757201",
   "metadata": {},
   "source": [
    "Stage 1: Function Parameters"
   ]
  },
  {
   "cell_type": "code",
   "execution_count": 3,
   "id": "578d0170",
   "metadata": {},
   "outputs": [],
   "source": [
    "#key value parameters\n",
    "# data in any order but with keys\n",
    "def intro(name,native):\n",
    "    print(\"hi\",name,\"so you are from\",native)"
   ]
  },
  {
   "cell_type": "code",
   "execution_count": 6,
   "id": "0066a219",
   "metadata": {},
   "outputs": [
    {
     "name": "stdout",
     "output_type": "stream",
     "text": [
      "hi jay so you are from Mumbai\n"
     ]
    }
   ],
   "source": [
    "intro('jay', \"Mumbai\")"
   ]
  },
  {
   "cell_type": "code",
   "execution_count": 7,
   "id": "4303954e",
   "metadata": {},
   "outputs": [
    {
     "name": "stdout",
     "output_type": "stream",
     "text": [
      "hi jay so you are from guzarat\n"
     ]
    }
   ],
   "source": [
    "intro(native=\"guzarat\",name=\"jay\") # when we dont know the arrangement"
   ]
  },
  {
   "cell_type": "code",
   "execution_count": 8,
   "id": "1ce431d9",
   "metadata": {},
   "outputs": [],
   "source": [
    "#default value parameters\n",
    "#values to take when user is not providing\n",
    "def intro(name=\"unamed\",native=\"unknown\"):\n",
    "    print(\"hi\",name,\"so you are from\",native)"
   ]
  },
  {
   "cell_type": "code",
   "execution_count": 9,
   "id": "814dcedc",
   "metadata": {},
   "outputs": [
    {
     "name": "stdout",
     "output_type": "stream",
     "text": [
      "hi amar so you are from guzarat\n"
     ]
    }
   ],
   "source": [
    "intro(\"amar\",\"guzarat\") #override"
   ]
  },
  {
   "cell_type": "code",
   "execution_count": 10,
   "id": "a05a80bd",
   "metadata": {},
   "outputs": [
    {
     "name": "stdout",
     "output_type": "stream",
     "text": [
      "hi ajay so you are from unknown\n"
     ]
    }
   ],
   "source": [
    "intro(\"ajay\")#second value is default taken"
   ]
  },
  {
   "cell_type": "code",
   "execution_count": 11,
   "id": "2661ead0",
   "metadata": {},
   "outputs": [
    {
     "name": "stdout",
     "output_type": "stream",
     "text": [
      "hi unamed so you are from guzarat\n"
     ]
    }
   ],
   "source": [
    "intro(native=\"guzarat\") #key value+default"
   ]
  },
  {
   "cell_type": "markdown",
   "id": "e737e808",
   "metadata": {},
   "source": [
    "stage2: Function <br>\n",
    "When user will give n parameters"
   ]
  },
  {
   "cell_type": "code",
   "execution_count": 12,
   "id": "46ff6068",
   "metadata": {},
   "outputs": [],
   "source": [
    "#variable size parameter limitation:only one per function\n",
    "def hobbies(*h):\n",
    "    print(type(h))\n",
    "    print(\"Total Hobbies:\", len(h))\n",
    "    for i in h:\n",
    "        print(\"----\",i)"
   ]
  },
  {
   "cell_type": "code",
   "execution_count": 13,
   "id": "d990d284",
   "metadata": {},
   "outputs": [
    {
     "name": "stdout",
     "output_type": "stream",
     "text": [
      "<class 'tuple'>\n",
      "Total Hobbies: 3\n",
      "---- sketch\n",
      "---- volleyball\n",
      "---- sing\n"
     ]
    }
   ],
   "source": [
    "hobbies(\"sketch\", \"volleyball\",\"sing\")"
   ]
  },
  {
   "cell_type": "code",
   "execution_count": 18,
   "id": "424b0bed",
   "metadata": {},
   "outputs": [
    {
     "name": "stdout",
     "output_type": "stream",
     "text": [
      "Sum: 148.5\n",
      "average: 37.125\n"
     ]
    }
   ],
   "source": [
    "#use function take n values as parameters\n",
    "#and print total and avg\n",
    "def avg(*n):\n",
    "    print(\"Sum:\", sum(n))\n",
    "    print(\"average:\",sum(n)/len(n))\n",
    "avg(10,35,42.5,61)"
   ]
  },
  {
   "cell_type": "markdown",
   "id": "5e490373",
   "metadata": {},
   "source": [
    "# Iterator,generator,decorator"
   ]
  },
  {
   "cell_type": "code",
   "execution_count": 20,
   "id": "9d5b93d0",
   "metadata": {},
   "outputs": [
    {
     "data": {
      "text/plain": [
       "11"
      ]
     },
     "execution_count": 20,
     "metadata": {},
     "output_type": "execute_result"
    }
   ],
   "source": [
    "'''Iterator iterates over a value one at a time\n",
    "generator will generate new value for n intervals\n",
    "decorator will give function polymorphism'''\n"
   ]
  },
  {
   "cell_type": "code",
   "execution_count": 102,
   "id": "a29ada53",
   "metadata": {},
   "outputs": [],
   "source": [
    "\n",
    "data=[11,22,33,44,55,66,77,88]\n",
    "i=iter(data)\n"
   ]
  },
  {
   "cell_type": "code",
   "execution_count": 110,
   "id": "2b679231",
   "metadata": {},
   "outputs": [
    {
     "data": {
      "text/plain": [
       "33"
      ]
     },
     "execution_count": 110,
     "metadata": {},
     "output_type": "execute_result"
    }
   ],
   "source": [
    "next(i)"
   ]
  },
  {
   "cell_type": "code",
   "execution_count": 99,
   "id": "fb87be5a",
   "metadata": {},
   "outputs": [],
   "source": [
    "#genarator it is a function that runs in stop n wait manner on every call\n",
    "#yield\n",
    "#generator will genearte value\n",
    "def value(amt):\n",
    "    for i in range(1,11):\n",
    "        amt+=amt+0.10\n",
    "        print(\"Value at \",i,\"year\")\n",
    "        yield amt"
   ]
  },
  {
   "cell_type": "code",
   "execution_count": 34,
   "id": "5a34e8c4",
   "metadata": {},
   "outputs": [],
   "source": [
    "i=value(1000)"
   ]
  },
  {
   "cell_type": "code",
   "execution_count": 108,
   "id": "feee3cb5",
   "metadata": {},
   "outputs": [
    {
     "data": {
      "text/plain": [
       "22"
      ]
     },
     "execution_count": 108,
     "metadata": {},
     "output_type": "execute_result"
    }
   ],
   "source": [
    "next(i)"
   ]
  },
  {
   "cell_type": "code",
   "execution_count": 105,
   "id": "8f803768",
   "metadata": {},
   "outputs": [],
   "source": [
    "#another example\n",
    "def testing():\n",
    "    print(\":One\")\n",
    "    yield\n",
    "    print(\"Two\")\n",
    "    yield\n",
    "    print(\"Three\")\n",
    "    yield\n",
    "    print(\"Four\")\n",
    "    yield"
   ]
  },
  {
   "cell_type": "code",
   "execution_count": 61,
   "id": "ec6cce01",
   "metadata": {},
   "outputs": [],
   "source": [
    "i=testing()"
   ]
  },
  {
   "cell_type": "code",
   "execution_count": 65,
   "id": "c6023af0",
   "metadata": {},
   "outputs": [
    {
     "name": "stdout",
     "output_type": "stream",
     "text": [
      "Four\n"
     ]
    }
   ],
   "source": [
    "next(i)"
   ]
  },
  {
   "cell_type": "code",
   "execution_count": 67,
   "id": "24687d37",
   "metadata": {},
   "outputs": [],
   "source": [
    "#decorator: most imp explain decorator\n",
    "#1. Function polymorphism----->nick name\n",
    "def welcome():\n",
    "    print(\"hi i am welcome\")"
   ]
  },
  {
   "cell_type": "code",
   "execution_count": 84,
   "id": "51150c74",
   "metadata": {},
   "outputs": [],
   "source": [
    "hi=welcome"
   ]
  },
  {
   "cell_type": "code",
   "execution_count": 85,
   "id": "4a6ad0dd",
   "metadata": {},
   "outputs": [
    {
     "name": "stdout",
     "output_type": "stream",
     "text": [
      "hi i am welcome\n"
     ]
    }
   ],
   "source": [
    "hi()"
   ]
  },
  {
   "cell_type": "code",
   "execution_count": 90,
   "id": "c166a8ad",
   "metadata": {},
   "outputs": [],
   "source": [
    "#multilanguage\n",
    "def eng(name):\n",
    "    print(\"Hi\",name)\n",
    "def hindi(name):\n",
    "    print(\"नमस्ते\",name)\n",
    "def marathi(name):\n",
    "    print(\"नमस्कार\",name)"
   ]
  },
  {
   "cell_type": "code",
   "execution_count": 91,
   "id": "61ca3615",
   "metadata": {},
   "outputs": [],
   "source": [
    "def welcome(name,lang):\n",
    "    lang(name)"
   ]
  },
  {
   "cell_type": "code",
   "execution_count": 92,
   "id": "78079b87",
   "metadata": {},
   "outputs": [
    {
     "name": "stdout",
     "output_type": "stream",
     "text": [
      "नमस्कार VIT\n"
     ]
    }
   ],
   "source": [
    "welcome(\"VIT\",marathi)"
   ]
  },
  {
   "cell_type": "markdown",
   "id": "b38ec971",
   "metadata": {},
   "source": [
    "# Error, Exception, Exception Handling"
   ]
  },
  {
   "cell_type": "markdown",
   "id": "21d4a62b",
   "metadata": {},
   "source": [
    "Error: some kind of logical or input failure\n"
   ]
  },
  {
   "cell_type": "markdown",
   "id": "09479e18",
   "metadata": {},
   "source": [
    "Exception: report of error, generated by system in case of error"
   ]
  },
  {
   "cell_type": "markdown",
   "id": "d018772d",
   "metadata": {},
   "source": [
    "Exception Handling: trying to have either normal or alternate flow of code inpresence of error, biggest need: safe close\n",
    "\n",
    "Eg. ATKT"
   ]
  },
  {
   "cell_type": "code",
   "execution_count": null,
   "id": "556389ae",
   "metadata": {},
   "outputs": [],
   "source": [
    "try: CODE THAT CAN CAUSE ERROR\n",
    "\n",
    "EXCEPT:\n",
    "    code to report and handle errpr+exception\n",
    "else:\n",
    "    code to run only if no error\n",
    "finally:\n",
    "    code to run in any case"
   ]
  },
  {
   "cell_type": "code",
   "execution_count": null,
   "id": "15515422",
   "metadata": {},
   "outputs": [],
   "source": [
    "In above if there is NO error: try+else+finally chalega\n",
    "                  is Error: try(partial)+except+finally\n",
    "        Minimum Blocks: try+except\n",
    "            else and finally are optional block"
   ]
  },
  {
   "cell_type": "code",
   "execution_count": 112,
   "id": "c662ff47",
   "metadata": {},
   "outputs": [
    {
     "name": "stdout",
     "output_type": "stream",
     "text": [
      "Enter a number:15\n",
      "ENter a Number:3\n",
      "C is  5.0\n",
      "Good Bye\n",
      "Over\n"
     ]
    }
   ],
   "source": [
    "try:\n",
    "    n1=int(input(\"Enter a number:\"))\n",
    "    n2=int(input(\"ENter a Number:\"))\n",
    "    c=n1/n2\n",
    "except Exception:\n",
    "    printt(\"Exception\")\n",
    "else:\n",
    "    print(\"C is \",c)\n",
    "finally:\n",
    "    print(\"Good Bye\")\n",
    "print(\"Over\")"
   ]
  },
  {
   "cell_type": "code",
   "execution_count": 119,
   "id": "b435a9fb",
   "metadata": {},
   "outputs": [
    {
     "name": "stdout",
     "output_type": "stream",
     "text": [
      "Enter a number:46\n",
      "ENter another Number:20.0.212\n",
      "invalid literal for int() with base 10: '20.0.212'\n",
      "Good Bye\n",
      "Code continues\n"
     ]
    }
   ],
   "source": [
    "try:\n",
    "    n1=int(input(\"Enter a number:\"))\n",
    "    n2=int(input(\"ENter another Number:\"))\n",
    "    c=n1/n2\n",
    "except Exception as e:  # in this it will provide exception name\n",
    "    print(e)\n",
    "else:\n",
    "    print(\"C is \",c)\n",
    "finally:\n",
    "    print(\"Good Bye\")\n",
    "print(\"Code continues\")"
   ]
  },
  {
   "cell_type": "code",
   "execution_count": 1,
   "id": "18fe3574",
   "metadata": {
    "scrolled": true
   },
   "outputs": [
    {
     "name": "stdout",
     "output_type": "stream",
     "text": [
      "Enter a number:52\n",
      "Enter other number:0\n",
      "Exception: division by zero\n",
      "by Amar sir\n",
      "code continues\n",
      "remaining code continues\n"
     ]
    }
   ],
   "source": [
    "#else was optional\n",
    "try:\n",
    "    a=int(input(\"Enter a number:\"))\n",
    "    b=int(input(\"Enter other number:\"))\n",
    "    c=a/b\n",
    "    print (\"C is\",c)\n",
    "except Exception as arg:\n",
    "    print(\"Exception:\",arg)\n",
    "finally:\n",
    "    print(\"by Amar sir\")\n",
    "print(\"code continues\")\n",
    "print(\"remaining code continues\")"
   ]
  },
  {
   "cell_type": "code",
   "execution_count": 2,
   "id": "dc828578",
   "metadata": {},
   "outputs": [
    {
     "name": "stdout",
     "output_type": "stream",
     "text": [
      "Enter a number:13\n",
      "Enter other number:10.0.2\n",
      "Exception: invalid literal for int() with base 10: '10.0.2'\n",
      "remaining code\n"
     ]
    }
   ],
   "source": [
    "#finally was optional\n",
    "try:\n",
    "    a=int(input(\"Enter a number:\"))\n",
    "    b=int(input(\"Enter other number:\"))\n",
    "    c=a/b\n",
    "    print (\"C is\",c)\n",
    "except Exception as arg:\n",
    "    print(\"Exception:\",arg)\n",
    "\n",
    "print(\"remaining code\")\n"
   ]
  },
  {
   "cell_type": "code",
   "execution_count": 4,
   "id": "6e372a03",
   "metadata": {},
   "outputs": [
    {
     "name": "stdout",
     "output_type": "stream",
     "text": [
      "Enter a number:132\n",
      "Enter other number:51.2\n",
      "Finally executed\n"
     ]
    },
    {
     "ename": "ValueError",
     "evalue": "invalid literal for int() with base 10: '51.2'",
     "output_type": "error",
     "traceback": [
      "\u001b[1;31m---------------------------------------------------------------------------\u001b[0m",
      "\u001b[1;31mValueError\u001b[0m                                Traceback (most recent call last)",
      "Cell \u001b[1;32mIn[4], line 7\u001b[0m\n\u001b[0;32m      5\u001b[0m \u001b[38;5;28;01mtry\u001b[39;00m:\n\u001b[0;32m      6\u001b[0m     a\u001b[38;5;241m=\u001b[39m\u001b[38;5;28mint\u001b[39m(\u001b[38;5;28minput\u001b[39m(\u001b[38;5;124m\"\u001b[39m\u001b[38;5;124mEnter a number:\u001b[39m\u001b[38;5;124m\"\u001b[39m))\n\u001b[1;32m----> 7\u001b[0m     b\u001b[38;5;241m=\u001b[39m\u001b[38;5;28;43mint\u001b[39;49m\u001b[43m(\u001b[49m\u001b[38;5;28;43minput\u001b[39;49m\u001b[43m(\u001b[49m\u001b[38;5;124;43m\"\u001b[39;49m\u001b[38;5;124;43mEnter other number:\u001b[39;49m\u001b[38;5;124;43m\"\u001b[39;49m\u001b[43m)\u001b[49m\u001b[43m)\u001b[49m\n\u001b[0;32m      8\u001b[0m     c\u001b[38;5;241m=\u001b[39ma\u001b[38;5;241m/\u001b[39mb\n\u001b[0;32m      9\u001b[0m     \u001b[38;5;28mprint\u001b[39m (\u001b[38;5;124m\"\u001b[39m\u001b[38;5;124mC is\u001b[39m\u001b[38;5;124m\"\u001b[39m,c)\n",
      "\u001b[1;31mValueError\u001b[0m: invalid literal for int() with base 10: '51.2'"
     ]
    }
   ],
   "source": [
    "#special case finally runs \n",
    "#and then code stops after throwing exception\n",
    "#in normal case runs\n",
    "#in case or error stops ,finally executes and then code stops\n",
    "try:\n",
    "    a=int(input(\"Enter a number:\"))\n",
    "    b=int(input(\"Enter other number:\"))\n",
    "    c=a/b\n",
    "    print (\"C is\",c)\n",
    "finally:\n",
    "    print(\"Finally executed\")\n",
    "print(\"Remaining code to run\")\n"
   ]
  },
  {
   "cell_type": "code",
   "execution_count": 5,
   "id": "3b20318d",
   "metadata": {},
   "outputs": [
    {
     "name": "stdout",
     "output_type": "stream",
     "text": [
      "Enter age : 4\n",
      "Exception : 4 Under 18\n"
     ]
    }
   ],
   "source": [
    "class AgeException(Exception):\n",
    "    def __init__(self,data):\n",
    "        self.data=data\n",
    "    def __str__(self): \n",
    "        return \"Exception : \"+str(self.data)+\" Under 18\"\n",
    "\n",
    "try:\n",
    "    n=int(input(\"Enter age : \"))\n",
    "    if n>=18:\n",
    "      print(\"You can vote, your age is \",n)\n",
    "    else:\n",
    "      raise AgeException(n)\n",
    "except Exception as msg:\n",
    "    print(msg)"
   ]
  },
  {
   "cell_type": "code",
   "execution_count": 6,
   "id": "a6c4d067",
   "metadata": {},
   "outputs": [],
   "source": [
    "class UserExceptions(Exception):\n",
    "    def __init__(self,no):\n",
    "        self.no=no\n",
    "    def __str__(self):\n",
    "        if self.no==101:\n",
    "            return str(self.no)+\": is access error\"\n",
    "        elif self.no==404:\n",
    "            return str(self.no)+\": is page not found error\"\n",
    "        else:\n",
    "            return str(self.no)+\": is unknown error\""
   ]
  },
  {
   "cell_type": "code",
   "execution_count": 7,
   "id": "a35320c1",
   "metadata": {},
   "outputs": [
    {
     "name": "stdout",
     "output_type": "stream",
     "text": [
      "123: is unknown error\n"
     ]
    }
   ],
   "source": [
    "try:\n",
    "    raise UserExceptions(123)\n",
    "except Exception as arg:\n",
    "    print(arg)"
   ]
  }
 ],
 "metadata": {
  "kernelspec": {
   "display_name": "Python 3 (ipykernel)",
   "language": "python",
   "name": "python3"
  },
  "language_info": {
   "codemirror_mode": {
    "name": "ipython",
    "version": 3
   },
   "file_extension": ".py",
   "mimetype": "text/x-python",
   "name": "python",
   "nbconvert_exporter": "python",
   "pygments_lexer": "ipython3",
   "version": "3.10.11"
  }
 },
 "nbformat": 4,
 "nbformat_minor": 5
}
